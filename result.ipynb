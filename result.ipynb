{
 "cells": [
  {
   "cell_type": "markdown",
   "id": "d163cf8d",
   "metadata": {},
   "source": [
    "## Unsupervised Learning on Country Data - Reynaldi"
   ]
  },
  {
   "cell_type": "code",
   "execution_count": 512,
   "id": "4e527477",
   "metadata": {},
   "outputs": [],
   "source": [
    "import numpy as np\n",
    "import pandas as pd\n",
    "import matplotlib.pyplot as plt\n",
    "import seaborn as sns\n",
    "import plotly.express as plot\n",
    "\n",
    "\n",
    "from sklearn.preprocessing import LabelEncoder, RobustScaler\n",
    "from sklearn.model_selection import train_test_split\n",
    "from sklearn.decomposition import PCA\n",
    "\n",
    "from scipy.stats import zscore"
   ]
  },
  {
   "cell_type": "code",
   "execution_count": 513,
   "id": "0e7947db",
   "metadata": {},
   "outputs": [
    {
     "data": {
      "text/html": [
       "<div>\n",
       "<style scoped>\n",
       "    .dataframe tbody tr th:only-of-type {\n",
       "        vertical-align: middle;\n",
       "    }\n",
       "\n",
       "    .dataframe tbody tr th {\n",
       "        vertical-align: top;\n",
       "    }\n",
       "\n",
       "    .dataframe thead th {\n",
       "        text-align: right;\n",
       "    }\n",
       "</style>\n",
       "<table border=\"1\" class=\"dataframe\">\n",
       "  <thead>\n",
       "    <tr style=\"text-align: right;\">\n",
       "      <th></th>\n",
       "      <th>country</th>\n",
       "      <th>child_mort</th>\n",
       "      <th>exports</th>\n",
       "      <th>health</th>\n",
       "      <th>imports</th>\n",
       "      <th>income</th>\n",
       "      <th>inflation</th>\n",
       "      <th>life_expec</th>\n",
       "      <th>total_fer</th>\n",
       "      <th>gdpp</th>\n",
       "    </tr>\n",
       "  </thead>\n",
       "  <tbody>\n",
       "    <tr>\n",
       "      <th>0</th>\n",
       "      <td>Afghanistan</td>\n",
       "      <td>90.2</td>\n",
       "      <td>10.0</td>\n",
       "      <td>7.58</td>\n",
       "      <td>44.9</td>\n",
       "      <td>1610</td>\n",
       "      <td>9.44</td>\n",
       "      <td>56.2</td>\n",
       "      <td>5.82</td>\n",
       "      <td>553</td>\n",
       "    </tr>\n",
       "    <tr>\n",
       "      <th>1</th>\n",
       "      <td>Albania</td>\n",
       "      <td>16.6</td>\n",
       "      <td>28.0</td>\n",
       "      <td>6.55</td>\n",
       "      <td>48.6</td>\n",
       "      <td>9930</td>\n",
       "      <td>4.49</td>\n",
       "      <td>76.3</td>\n",
       "      <td>1.65</td>\n",
       "      <td>4090</td>\n",
       "    </tr>\n",
       "    <tr>\n",
       "      <th>2</th>\n",
       "      <td>Algeria</td>\n",
       "      <td>27.3</td>\n",
       "      <td>38.4</td>\n",
       "      <td>4.17</td>\n",
       "      <td>31.4</td>\n",
       "      <td>12900</td>\n",
       "      <td>16.10</td>\n",
       "      <td>76.5</td>\n",
       "      <td>2.89</td>\n",
       "      <td>4460</td>\n",
       "    </tr>\n",
       "    <tr>\n",
       "      <th>3</th>\n",
       "      <td>Angola</td>\n",
       "      <td>119.0</td>\n",
       "      <td>62.3</td>\n",
       "      <td>2.85</td>\n",
       "      <td>42.9</td>\n",
       "      <td>5900</td>\n",
       "      <td>22.40</td>\n",
       "      <td>60.1</td>\n",
       "      <td>6.16</td>\n",
       "      <td>3530</td>\n",
       "    </tr>\n",
       "    <tr>\n",
       "      <th>4</th>\n",
       "      <td>Antigua and Barbuda</td>\n",
       "      <td>10.3</td>\n",
       "      <td>45.5</td>\n",
       "      <td>6.03</td>\n",
       "      <td>58.9</td>\n",
       "      <td>19100</td>\n",
       "      <td>1.44</td>\n",
       "      <td>76.8</td>\n",
       "      <td>2.13</td>\n",
       "      <td>12200</td>\n",
       "    </tr>\n",
       "    <tr>\n",
       "      <th>...</th>\n",
       "      <td>...</td>\n",
       "      <td>...</td>\n",
       "      <td>...</td>\n",
       "      <td>...</td>\n",
       "      <td>...</td>\n",
       "      <td>...</td>\n",
       "      <td>...</td>\n",
       "      <td>...</td>\n",
       "      <td>...</td>\n",
       "      <td>...</td>\n",
       "    </tr>\n",
       "    <tr>\n",
       "      <th>162</th>\n",
       "      <td>Vanuatu</td>\n",
       "      <td>29.2</td>\n",
       "      <td>46.6</td>\n",
       "      <td>5.25</td>\n",
       "      <td>52.7</td>\n",
       "      <td>2950</td>\n",
       "      <td>2.62</td>\n",
       "      <td>63.0</td>\n",
       "      <td>3.50</td>\n",
       "      <td>2970</td>\n",
       "    </tr>\n",
       "    <tr>\n",
       "      <th>163</th>\n",
       "      <td>Venezuela</td>\n",
       "      <td>17.1</td>\n",
       "      <td>28.5</td>\n",
       "      <td>4.91</td>\n",
       "      <td>17.6</td>\n",
       "      <td>16500</td>\n",
       "      <td>45.90</td>\n",
       "      <td>75.4</td>\n",
       "      <td>2.47</td>\n",
       "      <td>13500</td>\n",
       "    </tr>\n",
       "    <tr>\n",
       "      <th>164</th>\n",
       "      <td>Vietnam</td>\n",
       "      <td>23.3</td>\n",
       "      <td>72.0</td>\n",
       "      <td>6.84</td>\n",
       "      <td>80.2</td>\n",
       "      <td>4490</td>\n",
       "      <td>12.10</td>\n",
       "      <td>73.1</td>\n",
       "      <td>1.95</td>\n",
       "      <td>1310</td>\n",
       "    </tr>\n",
       "    <tr>\n",
       "      <th>165</th>\n",
       "      <td>Yemen</td>\n",
       "      <td>56.3</td>\n",
       "      <td>30.0</td>\n",
       "      <td>5.18</td>\n",
       "      <td>34.4</td>\n",
       "      <td>4480</td>\n",
       "      <td>23.60</td>\n",
       "      <td>67.5</td>\n",
       "      <td>4.67</td>\n",
       "      <td>1310</td>\n",
       "    </tr>\n",
       "    <tr>\n",
       "      <th>166</th>\n",
       "      <td>Zambia</td>\n",
       "      <td>83.1</td>\n",
       "      <td>37.0</td>\n",
       "      <td>5.89</td>\n",
       "      <td>30.9</td>\n",
       "      <td>3280</td>\n",
       "      <td>14.00</td>\n",
       "      <td>52.0</td>\n",
       "      <td>5.40</td>\n",
       "      <td>1460</td>\n",
       "    </tr>\n",
       "  </tbody>\n",
       "</table>\n",
       "<p>167 rows × 10 columns</p>\n",
       "</div>"
      ],
      "text/plain": [
       "                 country  child_mort  exports  health  imports  income  \\\n",
       "0            Afghanistan        90.2     10.0    7.58     44.9    1610   \n",
       "1                Albania        16.6     28.0    6.55     48.6    9930   \n",
       "2                Algeria        27.3     38.4    4.17     31.4   12900   \n",
       "3                 Angola       119.0     62.3    2.85     42.9    5900   \n",
       "4    Antigua and Barbuda        10.3     45.5    6.03     58.9   19100   \n",
       "..                   ...         ...      ...     ...      ...     ...   \n",
       "162              Vanuatu        29.2     46.6    5.25     52.7    2950   \n",
       "163            Venezuela        17.1     28.5    4.91     17.6   16500   \n",
       "164              Vietnam        23.3     72.0    6.84     80.2    4490   \n",
       "165                Yemen        56.3     30.0    5.18     34.4    4480   \n",
       "166               Zambia        83.1     37.0    5.89     30.9    3280   \n",
       "\n",
       "     inflation  life_expec  total_fer   gdpp  \n",
       "0         9.44        56.2       5.82    553  \n",
       "1         4.49        76.3       1.65   4090  \n",
       "2        16.10        76.5       2.89   4460  \n",
       "3        22.40        60.1       6.16   3530  \n",
       "4         1.44        76.8       2.13  12200  \n",
       "..         ...         ...        ...    ...  \n",
       "162       2.62        63.0       3.50   2970  \n",
       "163      45.90        75.4       2.47  13500  \n",
       "164      12.10        73.1       1.95   1310  \n",
       "165      23.60        67.5       4.67   1310  \n",
       "166      14.00        52.0       5.40   1460  \n",
       "\n",
       "[167 rows x 10 columns]"
      ]
     },
     "execution_count": 513,
     "metadata": {},
     "output_type": "execute_result"
    }
   ],
   "source": [
    "data = pd.read_csv(\"Country-data.csv\")\n",
    "data"
   ]
  },
  {
   "cell_type": "code",
   "execution_count": 514,
   "id": "4dc7ca11",
   "metadata": {},
   "outputs": [
    {
     "data": {
      "text/html": [
       "<div>\n",
       "<style scoped>\n",
       "    .dataframe tbody tr th:only-of-type {\n",
       "        vertical-align: middle;\n",
       "    }\n",
       "\n",
       "    .dataframe tbody tr th {\n",
       "        vertical-align: top;\n",
       "    }\n",
       "\n",
       "    .dataframe thead th {\n",
       "        text-align: right;\n",
       "    }\n",
       "</style>\n",
       "<table border=\"1\" class=\"dataframe\">\n",
       "  <thead>\n",
       "    <tr style=\"text-align: right;\">\n",
       "      <th></th>\n",
       "      <th>Column Name</th>\n",
       "      <th>Description</th>\n",
       "    </tr>\n",
       "  </thead>\n",
       "  <tbody>\n",
       "    <tr>\n",
       "      <th>0</th>\n",
       "      <td>country</td>\n",
       "      <td>Name of the country</td>\n",
       "    </tr>\n",
       "    <tr>\n",
       "      <th>1</th>\n",
       "      <td>child_mort</td>\n",
       "      <td>Death of children under 5 years of age per 100...</td>\n",
       "    </tr>\n",
       "    <tr>\n",
       "      <th>2</th>\n",
       "      <td>exports</td>\n",
       "      <td>Exports of goods and services per capita. Give...</td>\n",
       "    </tr>\n",
       "    <tr>\n",
       "      <th>3</th>\n",
       "      <td>health</td>\n",
       "      <td>Total health spending per capita. Given as %ag...</td>\n",
       "    </tr>\n",
       "    <tr>\n",
       "      <th>4</th>\n",
       "      <td>imports</td>\n",
       "      <td>Imports of goods and services per capita. Give...</td>\n",
       "    </tr>\n",
       "    <tr>\n",
       "      <th>5</th>\n",
       "      <td>Income</td>\n",
       "      <td>Net income per person</td>\n",
       "    </tr>\n",
       "    <tr>\n",
       "      <th>6</th>\n",
       "      <td>Inflation</td>\n",
       "      <td>The measurement of the annual growth rate of t...</td>\n",
       "    </tr>\n",
       "    <tr>\n",
       "      <th>7</th>\n",
       "      <td>life_expec</td>\n",
       "      <td>The average number of years a new born child w...</td>\n",
       "    </tr>\n",
       "    <tr>\n",
       "      <th>8</th>\n",
       "      <td>total_fer</td>\n",
       "      <td>The number of children that would be born to e...</td>\n",
       "    </tr>\n",
       "    <tr>\n",
       "      <th>9</th>\n",
       "      <td>gdpp</td>\n",
       "      <td>The GDP per capita. Calculated as the Total GD...</td>\n",
       "    </tr>\n",
       "  </tbody>\n",
       "</table>\n",
       "</div>"
      ],
      "text/plain": [
       "  Column Name                                        Description\n",
       "0     country                                Name of the country\n",
       "1  child_mort  Death of children under 5 years of age per 100...\n",
       "2     exports  Exports of goods and services per capita. Give...\n",
       "3      health  Total health spending per capita. Given as %ag...\n",
       "4     imports  Imports of goods and services per capita. Give...\n",
       "5      Income                              Net income per person\n",
       "6   Inflation  The measurement of the annual growth rate of t...\n",
       "7  life_expec  The average number of years a new born child w...\n",
       "8   total_fer  The number of children that would be born to e...\n",
       "9        gdpp  The GDP per capita. Calculated as the Total GD..."
      ]
     },
     "execution_count": 514,
     "metadata": {},
     "output_type": "execute_result"
    }
   ],
   "source": [
    "meta_data = pd.read_csv(\"data-dictionary.csv\")\n",
    "meta_data"
   ]
  },
  {
   "cell_type": "markdown",
   "id": "bfd4b740",
   "metadata": {},
   "source": [
    "Preprocessing 1 : Check NaN"
   ]
  },
  {
   "cell_type": "code",
   "execution_count": 515,
   "id": "1e0096d2",
   "metadata": {},
   "outputs": [
    {
     "data": {
      "text/plain": [
       "country       0\n",
       "child_mort    0\n",
       "exports       0\n",
       "health        0\n",
       "imports       0\n",
       "income        0\n",
       "inflation     0\n",
       "life_expec    0\n",
       "total_fer     0\n",
       "gdpp          0\n",
       "dtype: int64"
      ]
     },
     "execution_count": 515,
     "metadata": {},
     "output_type": "execute_result"
    }
   ],
   "source": [
    "data.isna().sum()"
   ]
  },
  {
   "cell_type": "markdown",
   "id": "61229de2",
   "metadata": {},
   "source": [
    "Preprocessing 2 : Check Object and Do Encoding"
   ]
  },
  {
   "cell_type": "code",
   "execution_count": 516,
   "id": "d75bd19d",
   "metadata": {},
   "outputs": [
    {
     "name": "stdout",
     "output_type": "stream",
     "text": [
      "<class 'pandas.core.frame.DataFrame'>\n",
      "RangeIndex: 167 entries, 0 to 166\n",
      "Data columns (total 10 columns):\n",
      " #   Column      Non-Null Count  Dtype  \n",
      "---  ------      --------------  -----  \n",
      " 0   country     167 non-null    object \n",
      " 1   child_mort  167 non-null    float64\n",
      " 2   exports     167 non-null    float64\n",
      " 3   health      167 non-null    float64\n",
      " 4   imports     167 non-null    float64\n",
      " 5   income      167 non-null    int64  \n",
      " 6   inflation   167 non-null    float64\n",
      " 7   life_expec  167 non-null    float64\n",
      " 8   total_fer   167 non-null    float64\n",
      " 9   gdpp        167 non-null    int64  \n",
      "dtypes: float64(7), int64(2), object(1)\n",
      "memory usage: 13.2+ KB\n"
     ]
    }
   ],
   "source": [
    "data.info()"
   ]
  },
  {
   "cell_type": "code",
   "execution_count": 517,
   "id": "91be3bf9",
   "metadata": {},
   "outputs": [],
   "source": [
    "LABEL_ENCODER = LabelEncoder()"
   ]
  },
  {
   "cell_type": "code",
   "execution_count": 518,
   "id": "779b3a43",
   "metadata": {},
   "outputs": [],
   "source": [
    "data[\"country\"] = LABEL_ENCODER.fit_transform(data[\"country\"])"
   ]
  },
  {
   "cell_type": "markdown",
   "id": "8084e1c1",
   "metadata": {},
   "source": [
    "Preprocessing 3 : Check Outlier -> No Need Deletion"
   ]
  },
  {
   "cell_type": "code",
   "execution_count": 519,
   "id": "713b753a",
   "metadata": {},
   "outputs": [
    {
     "data": {
      "text/html": [
       "<div>\n",
       "<style scoped>\n",
       "    .dataframe tbody tr th:only-of-type {\n",
       "        vertical-align: middle;\n",
       "    }\n",
       "\n",
       "    .dataframe tbody tr th {\n",
       "        vertical-align: top;\n",
       "    }\n",
       "\n",
       "    .dataframe thead th {\n",
       "        text-align: right;\n",
       "    }\n",
       "</style>\n",
       "<table border=\"1\" class=\"dataframe\">\n",
       "  <thead>\n",
       "    <tr style=\"text-align: right;\">\n",
       "      <th></th>\n",
       "      <th>country</th>\n",
       "      <th>child_mort</th>\n",
       "      <th>exports</th>\n",
       "      <th>health</th>\n",
       "      <th>imports</th>\n",
       "      <th>income</th>\n",
       "      <th>inflation</th>\n",
       "      <th>life_expec</th>\n",
       "      <th>total_fer</th>\n",
       "      <th>gdpp</th>\n",
       "    </tr>\n",
       "  </thead>\n",
       "  <tbody>\n",
       "    <tr>\n",
       "      <th>23</th>\n",
       "      <td>23</td>\n",
       "      <td>10.5</td>\n",
       "      <td>67.4</td>\n",
       "      <td>2.84</td>\n",
       "      <td>28.0</td>\n",
       "      <td>80600</td>\n",
       "      <td>16.700</td>\n",
       "      <td>77.1</td>\n",
       "      <td>1.84</td>\n",
       "      <td>35300</td>\n",
       "    </tr>\n",
       "    <tr>\n",
       "      <th>66</th>\n",
       "      <td>66</td>\n",
       "      <td>208.0</td>\n",
       "      <td>15.3</td>\n",
       "      <td>6.91</td>\n",
       "      <td>64.7</td>\n",
       "      <td>1500</td>\n",
       "      <td>5.450</td>\n",
       "      <td>32.1</td>\n",
       "      <td>3.33</td>\n",
       "      <td>662</td>\n",
       "    </tr>\n",
       "    <tr>\n",
       "      <th>82</th>\n",
       "      <td>82</td>\n",
       "      <td>10.8</td>\n",
       "      <td>66.7</td>\n",
       "      <td>2.63</td>\n",
       "      <td>30.4</td>\n",
       "      <td>75200</td>\n",
       "      <td>11.200</td>\n",
       "      <td>78.2</td>\n",
       "      <td>2.21</td>\n",
       "      <td>38500</td>\n",
       "    </tr>\n",
       "    <tr>\n",
       "      <th>91</th>\n",
       "      <td>91</td>\n",
       "      <td>2.8</td>\n",
       "      <td>175.0</td>\n",
       "      <td>7.77</td>\n",
       "      <td>142.0</td>\n",
       "      <td>91700</td>\n",
       "      <td>3.620</td>\n",
       "      <td>81.3</td>\n",
       "      <td>1.63</td>\n",
       "      <td>105000</td>\n",
       "    </tr>\n",
       "    <tr>\n",
       "      <th>98</th>\n",
       "      <td>98</td>\n",
       "      <td>6.8</td>\n",
       "      <td>153.0</td>\n",
       "      <td>8.65</td>\n",
       "      <td>154.0</td>\n",
       "      <td>28300</td>\n",
       "      <td>3.830</td>\n",
       "      <td>80.3</td>\n",
       "      <td>1.36</td>\n",
       "      <td>21100</td>\n",
       "    </tr>\n",
       "    <tr>\n",
       "      <th>112</th>\n",
       "      <td>112</td>\n",
       "      <td>123.0</td>\n",
       "      <td>22.2</td>\n",
       "      <td>5.16</td>\n",
       "      <td>49.1</td>\n",
       "      <td>814</td>\n",
       "      <td>2.550</td>\n",
       "      <td>58.8</td>\n",
       "      <td>7.49</td>\n",
       "      <td>348</td>\n",
       "    </tr>\n",
       "    <tr>\n",
       "      <th>113</th>\n",
       "      <td>113</td>\n",
       "      <td>130.0</td>\n",
       "      <td>25.3</td>\n",
       "      <td>5.07</td>\n",
       "      <td>17.4</td>\n",
       "      <td>5150</td>\n",
       "      <td>104.000</td>\n",
       "      <td>60.5</td>\n",
       "      <td>5.84</td>\n",
       "      <td>2330</td>\n",
       "    </tr>\n",
       "    <tr>\n",
       "      <th>114</th>\n",
       "      <td>114</td>\n",
       "      <td>3.2</td>\n",
       "      <td>39.7</td>\n",
       "      <td>9.48</td>\n",
       "      <td>28.5</td>\n",
       "      <td>62300</td>\n",
       "      <td>5.950</td>\n",
       "      <td>81.0</td>\n",
       "      <td>1.95</td>\n",
       "      <td>87800</td>\n",
       "    </tr>\n",
       "    <tr>\n",
       "      <th>123</th>\n",
       "      <td>123</td>\n",
       "      <td>9.0</td>\n",
       "      <td>62.3</td>\n",
       "      <td>1.81</td>\n",
       "      <td>23.8</td>\n",
       "      <td>125000</td>\n",
       "      <td>6.980</td>\n",
       "      <td>79.5</td>\n",
       "      <td>2.07</td>\n",
       "      <td>70300</td>\n",
       "    </tr>\n",
       "    <tr>\n",
       "      <th>132</th>\n",
       "      <td>132</td>\n",
       "      <td>160.0</td>\n",
       "      <td>16.8</td>\n",
       "      <td>13.10</td>\n",
       "      <td>34.5</td>\n",
       "      <td>1220</td>\n",
       "      <td>17.200</td>\n",
       "      <td>55.0</td>\n",
       "      <td>5.20</td>\n",
       "      <td>399</td>\n",
       "    </tr>\n",
       "    <tr>\n",
       "      <th>133</th>\n",
       "      <td>133</td>\n",
       "      <td>2.8</td>\n",
       "      <td>200.0</td>\n",
       "      <td>3.96</td>\n",
       "      <td>174.0</td>\n",
       "      <td>72100</td>\n",
       "      <td>-0.046</td>\n",
       "      <td>82.7</td>\n",
       "      <td>1.15</td>\n",
       "      <td>46600</td>\n",
       "    </tr>\n",
       "    <tr>\n",
       "      <th>145</th>\n",
       "      <td>145</td>\n",
       "      <td>4.5</td>\n",
       "      <td>64.0</td>\n",
       "      <td>11.50</td>\n",
       "      <td>53.3</td>\n",
       "      <td>55500</td>\n",
       "      <td>0.317</td>\n",
       "      <td>82.2</td>\n",
       "      <td>1.52</td>\n",
       "      <td>74600</td>\n",
       "    </tr>\n",
       "    <tr>\n",
       "      <th>159</th>\n",
       "      <td>159</td>\n",
       "      <td>7.3</td>\n",
       "      <td>12.4</td>\n",
       "      <td>17.90</td>\n",
       "      <td>15.8</td>\n",
       "      <td>49400</td>\n",
       "      <td>1.220</td>\n",
       "      <td>78.7</td>\n",
       "      <td>1.93</td>\n",
       "      <td>48400</td>\n",
       "    </tr>\n",
       "    <tr>\n",
       "      <th>163</th>\n",
       "      <td>163</td>\n",
       "      <td>17.1</td>\n",
       "      <td>28.5</td>\n",
       "      <td>4.91</td>\n",
       "      <td>17.6</td>\n",
       "      <td>16500</td>\n",
       "      <td>45.900</td>\n",
       "      <td>75.4</td>\n",
       "      <td>2.47</td>\n",
       "      <td>13500</td>\n",
       "    </tr>\n",
       "  </tbody>\n",
       "</table>\n",
       "</div>"
      ],
      "text/plain": [
       "     country  child_mort  exports  health  imports  income  inflation  \\\n",
       "23        23        10.5     67.4    2.84     28.0   80600     16.700   \n",
       "66        66       208.0     15.3    6.91     64.7    1500      5.450   \n",
       "82        82        10.8     66.7    2.63     30.4   75200     11.200   \n",
       "91        91         2.8    175.0    7.77    142.0   91700      3.620   \n",
       "98        98         6.8    153.0    8.65    154.0   28300      3.830   \n",
       "112      112       123.0     22.2    5.16     49.1     814      2.550   \n",
       "113      113       130.0     25.3    5.07     17.4    5150    104.000   \n",
       "114      114         3.2     39.7    9.48     28.5   62300      5.950   \n",
       "123      123         9.0     62.3    1.81     23.8  125000      6.980   \n",
       "132      132       160.0     16.8   13.10     34.5    1220     17.200   \n",
       "133      133         2.8    200.0    3.96    174.0   72100     -0.046   \n",
       "145      145         4.5     64.0   11.50     53.3   55500      0.317   \n",
       "159      159         7.3     12.4   17.90     15.8   49400      1.220   \n",
       "163      163        17.1     28.5    4.91     17.6   16500     45.900   \n",
       "\n",
       "     life_expec  total_fer    gdpp  \n",
       "23         77.1       1.84   35300  \n",
       "66         32.1       3.33     662  \n",
       "82         78.2       2.21   38500  \n",
       "91         81.3       1.63  105000  \n",
       "98         80.3       1.36   21100  \n",
       "112        58.8       7.49     348  \n",
       "113        60.5       5.84    2330  \n",
       "114        81.0       1.95   87800  \n",
       "123        79.5       2.07   70300  \n",
       "132        55.0       5.20     399  \n",
       "133        82.7       1.15   46600  \n",
       "145        82.2       1.52   74600  \n",
       "159        78.7       1.93   48400  \n",
       "163        75.4       2.47   13500  "
      ]
     },
     "execution_count": 519,
     "metadata": {},
     "output_type": "execute_result"
    }
   ],
   "source": [
    "outlier = data[(np.abs(zscore(data))>3).any(axis = 1)]\n",
    "\n",
    "outlier"
   ]
  },
  {
   "cell_type": "markdown",
   "id": "e106aa17",
   "metadata": {},
   "source": [
    "Preprocessing 4 : Train Test Split and Standard Scaler"
   ]
  },
  {
   "cell_type": "code",
   "execution_count": 520,
   "id": "54f5e39e",
   "metadata": {},
   "outputs": [
    {
     "data": {
      "text/html": [
       "<div>\n",
       "<style scoped>\n",
       "    .dataframe tbody tr th:only-of-type {\n",
       "        vertical-align: middle;\n",
       "    }\n",
       "\n",
       "    .dataframe tbody tr th {\n",
       "        vertical-align: top;\n",
       "    }\n",
       "\n",
       "    .dataframe thead th {\n",
       "        text-align: right;\n",
       "    }\n",
       "</style>\n",
       "<table border=\"1\" class=\"dataframe\">\n",
       "  <thead>\n",
       "    <tr style=\"text-align: right;\">\n",
       "      <th></th>\n",
       "      <th>country</th>\n",
       "      <th>child_mort</th>\n",
       "      <th>exports</th>\n",
       "      <th>health</th>\n",
       "      <th>imports</th>\n",
       "      <th>income</th>\n",
       "      <th>inflation</th>\n",
       "      <th>life_expec</th>\n",
       "      <th>total_fer</th>\n",
       "      <th>gdpp</th>\n",
       "    </tr>\n",
       "  </thead>\n",
       "  <tbody>\n",
       "    <tr>\n",
       "      <th>0</th>\n",
       "      <td>0</td>\n",
       "      <td>90.2</td>\n",
       "      <td>10.0</td>\n",
       "      <td>7.58</td>\n",
       "      <td>44.9</td>\n",
       "      <td>1610</td>\n",
       "      <td>9.44</td>\n",
       "      <td>56.2</td>\n",
       "      <td>5.82</td>\n",
       "      <td>553</td>\n",
       "    </tr>\n",
       "    <tr>\n",
       "      <th>1</th>\n",
       "      <td>1</td>\n",
       "      <td>16.6</td>\n",
       "      <td>28.0</td>\n",
       "      <td>6.55</td>\n",
       "      <td>48.6</td>\n",
       "      <td>9930</td>\n",
       "      <td>4.49</td>\n",
       "      <td>76.3</td>\n",
       "      <td>1.65</td>\n",
       "      <td>4090</td>\n",
       "    </tr>\n",
       "    <tr>\n",
       "      <th>2</th>\n",
       "      <td>2</td>\n",
       "      <td>27.3</td>\n",
       "      <td>38.4</td>\n",
       "      <td>4.17</td>\n",
       "      <td>31.4</td>\n",
       "      <td>12900</td>\n",
       "      <td>16.10</td>\n",
       "      <td>76.5</td>\n",
       "      <td>2.89</td>\n",
       "      <td>4460</td>\n",
       "    </tr>\n",
       "    <tr>\n",
       "      <th>3</th>\n",
       "      <td>3</td>\n",
       "      <td>119.0</td>\n",
       "      <td>62.3</td>\n",
       "      <td>2.85</td>\n",
       "      <td>42.9</td>\n",
       "      <td>5900</td>\n",
       "      <td>22.40</td>\n",
       "      <td>60.1</td>\n",
       "      <td>6.16</td>\n",
       "      <td>3530</td>\n",
       "    </tr>\n",
       "    <tr>\n",
       "      <th>4</th>\n",
       "      <td>4</td>\n",
       "      <td>10.3</td>\n",
       "      <td>45.5</td>\n",
       "      <td>6.03</td>\n",
       "      <td>58.9</td>\n",
       "      <td>19100</td>\n",
       "      <td>1.44</td>\n",
       "      <td>76.8</td>\n",
       "      <td>2.13</td>\n",
       "      <td>12200</td>\n",
       "    </tr>\n",
       "    <tr>\n",
       "      <th>...</th>\n",
       "      <td>...</td>\n",
       "      <td>...</td>\n",
       "      <td>...</td>\n",
       "      <td>...</td>\n",
       "      <td>...</td>\n",
       "      <td>...</td>\n",
       "      <td>...</td>\n",
       "      <td>...</td>\n",
       "      <td>...</td>\n",
       "      <td>...</td>\n",
       "    </tr>\n",
       "    <tr>\n",
       "      <th>162</th>\n",
       "      <td>162</td>\n",
       "      <td>29.2</td>\n",
       "      <td>46.6</td>\n",
       "      <td>5.25</td>\n",
       "      <td>52.7</td>\n",
       "      <td>2950</td>\n",
       "      <td>2.62</td>\n",
       "      <td>63.0</td>\n",
       "      <td>3.50</td>\n",
       "      <td>2970</td>\n",
       "    </tr>\n",
       "    <tr>\n",
       "      <th>163</th>\n",
       "      <td>163</td>\n",
       "      <td>17.1</td>\n",
       "      <td>28.5</td>\n",
       "      <td>4.91</td>\n",
       "      <td>17.6</td>\n",
       "      <td>16500</td>\n",
       "      <td>45.90</td>\n",
       "      <td>75.4</td>\n",
       "      <td>2.47</td>\n",
       "      <td>13500</td>\n",
       "    </tr>\n",
       "    <tr>\n",
       "      <th>164</th>\n",
       "      <td>164</td>\n",
       "      <td>23.3</td>\n",
       "      <td>72.0</td>\n",
       "      <td>6.84</td>\n",
       "      <td>80.2</td>\n",
       "      <td>4490</td>\n",
       "      <td>12.10</td>\n",
       "      <td>73.1</td>\n",
       "      <td>1.95</td>\n",
       "      <td>1310</td>\n",
       "    </tr>\n",
       "    <tr>\n",
       "      <th>165</th>\n",
       "      <td>165</td>\n",
       "      <td>56.3</td>\n",
       "      <td>30.0</td>\n",
       "      <td>5.18</td>\n",
       "      <td>34.4</td>\n",
       "      <td>4480</td>\n",
       "      <td>23.60</td>\n",
       "      <td>67.5</td>\n",
       "      <td>4.67</td>\n",
       "      <td>1310</td>\n",
       "    </tr>\n",
       "    <tr>\n",
       "      <th>166</th>\n",
       "      <td>166</td>\n",
       "      <td>83.1</td>\n",
       "      <td>37.0</td>\n",
       "      <td>5.89</td>\n",
       "      <td>30.9</td>\n",
       "      <td>3280</td>\n",
       "      <td>14.00</td>\n",
       "      <td>52.0</td>\n",
       "      <td>5.40</td>\n",
       "      <td>1460</td>\n",
       "    </tr>\n",
       "  </tbody>\n",
       "</table>\n",
       "<p>167 rows × 10 columns</p>\n",
       "</div>"
      ],
      "text/plain": [
       "     country  child_mort  exports  health  imports  income  inflation  \\\n",
       "0          0        90.2     10.0    7.58     44.9    1610       9.44   \n",
       "1          1        16.6     28.0    6.55     48.6    9930       4.49   \n",
       "2          2        27.3     38.4    4.17     31.4   12900      16.10   \n",
       "3          3       119.0     62.3    2.85     42.9    5900      22.40   \n",
       "4          4        10.3     45.5    6.03     58.9   19100       1.44   \n",
       "..       ...         ...      ...     ...      ...     ...        ...   \n",
       "162      162        29.2     46.6    5.25     52.7    2950       2.62   \n",
       "163      163        17.1     28.5    4.91     17.6   16500      45.90   \n",
       "164      164        23.3     72.0    6.84     80.2    4490      12.10   \n",
       "165      165        56.3     30.0    5.18     34.4    4480      23.60   \n",
       "166      166        83.1     37.0    5.89     30.9    3280      14.00   \n",
       "\n",
       "     life_expec  total_fer   gdpp  \n",
       "0          56.2       5.82    553  \n",
       "1          76.3       1.65   4090  \n",
       "2          76.5       2.89   4460  \n",
       "3          60.1       6.16   3530  \n",
       "4          76.8       2.13  12200  \n",
       "..          ...        ...    ...  \n",
       "162        63.0       3.50   2970  \n",
       "163        75.4       2.47  13500  \n",
       "164        73.1       1.95   1310  \n",
       "165        67.5       4.67   1310  \n",
       "166        52.0       5.40   1460  \n",
       "\n",
       "[167 rows x 10 columns]"
      ]
     },
     "execution_count": 520,
     "metadata": {},
     "output_type": "execute_result"
    }
   ],
   "source": [
    "data"
   ]
  },
  {
   "cell_type": "code",
   "execution_count": 521,
   "id": "6759ab53",
   "metadata": {},
   "outputs": [],
   "source": [
    "train_data = data.iloc[:,1:]"
   ]
  },
  {
   "cell_type": "code",
   "execution_count": 522,
   "id": "bdbf1fb4",
   "metadata": {},
   "outputs": [],
   "source": [
    "SCALER = RobustScaler()"
   ]
  },
  {
   "cell_type": "code",
   "execution_count": 523,
   "id": "dee48132",
   "metadata": {},
   "outputs": [],
   "source": [
    "scaled_train_data_raw = SCALER.fit_transform(train_data)"
   ]
  },
  {
   "cell_type": "code",
   "execution_count": 524,
   "id": "5193b07f",
   "metadata": {},
   "outputs": [],
   "source": [
    "PCA_MODEL = PCA(n_components=2)"
   ]
  },
  {
   "cell_type": "code",
   "execution_count": 525,
   "id": "eafb72f0",
   "metadata": {},
   "outputs": [],
   "source": [
    "scaled_train_data = PCA_MODEL.fit_transform(scaled_train_data_raw)"
   ]
  },
  {
   "cell_type": "code",
   "execution_count": 526,
   "id": "368023c3",
   "metadata": {},
   "outputs": [
    {
     "data": {
      "text/plain": [
       "array([[-2.29455931e+00, -7.53647921e-02],\n",
       "       [-2.74219649e-01, -6.85631098e-01],\n",
       "       [-7.16440516e-01,  7.81059579e-01],\n",
       "       [-2.05968854e+00,  1.42445365e+00],\n",
       "       [ 6.30217657e-01, -7.81486030e-01],\n",
       "       [-4.53014399e-01,  1.48034077e+00],\n",
       "       [-7.21541617e-01, -3.18605767e-01],\n",
       "       [ 3.01014874e+00,  7.26967696e-01],\n",
       "       [ 3.34708098e+00,  1.82596851e-01],\n",
       "       [-4.75704546e-01,  6.25728586e-01],\n",
       "       [ 1.39404326e+00, -4.38690902e-01],\n",
       "       [ 1.58169341e+00,  3.40299059e-01],\n",
       "       [-1.41248131e+00, -1.42573460e-01],\n",
       "       [ 7.39274649e-01, -8.04660568e-01],\n",
       "       [-8.96221170e-02,  2.55145115e-01],\n",
       "       [ 3.45935663e+00, -9.52614397e-02],\n",
       "       [-1.64692232e-01, -1.08013979e+00],\n",
       "       [-1.96629446e+00, -7.19135409e-01],\n",
       "       [-5.97447475e-01, -7.74433483e-01],\n",
       "       [-1.01775866e+00, -9.18854357e-02],\n",
       "       [ 9.84997370e-02, -1.17017849e+00],\n",
       "       [-7.65046022e-01, -1.80584051e-01],\n",
       "       [-2.61409707e-01,  2.56094115e-01],\n",
       "       [ 2.85605812e+00,  2.35653625e+00],\n",
       "       [ 3.15291393e-01, -9.85723337e-01],\n",
       "       [-2.31695063e+00, -1.24439540e-01],\n",
       "       [-2.34335578e+00,  1.47430746e-01],\n",
       "       [-8.16138802e-01, -1.02908080e+00],\n",
       "       [-2.04563826e+00, -5.40356699e-01],\n",
       "       [ 2.95696166e+00,  5.67663282e-01],\n",
       "       [-5.37063860e-01, -1.14857522e+00],\n",
       "       [-2.73881454e+00, -4.63300145e-01],\n",
       "       [-2.38336861e+00, -1.78359416e-01],\n",
       "       [ 4.31114310e-01,  1.87661819e-01],\n",
       "       [-5.34736321e-01, -1.34857611e-01],\n",
       "       [-4.08042789e-01, -3.57961211e-01],\n",
       "       [-1.76424530e+00, -6.42999603e-01],\n",
       "       [-2.43310752e+00,  9.57197085e-01],\n",
       "       [-1.37682678e+00,  9.53425672e-01],\n",
       "       [ 1.87526440e-01, -3.45062608e-01],\n",
       "       [-1.81803514e+00, -4.18175465e-01],\n",
       "       [ 6.90789087e-01, -6.57846239e-01],\n",
       "       [ 2.14335528e+00, -1.44440794e-01],\n",
       "       [ 1.71820273e+00, -9.36766510e-01],\n",
       "       [ 3.78797014e+00,  7.25585854e-01],\n",
       "       [-5.76889681e-01, -3.03630947e-01],\n",
       "       [-5.08952392e-01, -2.11963027e-01],\n",
       "       [-1.11075521e+00,  1.99310878e-01],\n",
       "       [-4.93444367e-01, -8.77807588e-01],\n",
       "       [-2.54354083e-01,  2.01830645e+00],\n",
       "       [-2.21499232e+00,  4.06938991e-01],\n",
       "       [ 1.23949664e+00, -8.31577086e-01],\n",
       "       [-4.51951167e-01, -8.60353511e-01],\n",
       "       [ 2.94669258e+00,  2.82320006e-01],\n",
       "       [ 2.51124050e+00,  2.21493409e-01],\n",
       "       [-9.84490506e-01,  1.17044125e+00],\n",
       "       [-1.79040806e+00, -5.23548853e-01],\n",
       "       [-4.23027598e-01, -5.14202038e-01],\n",
       "       [ 2.89587672e+00,  1.23403297e-01],\n",
       "       [-1.86126587e+00,  5.85300520e-01],\n",
       "       [ 1.58185602e+00, -2.31479754e-01],\n",
       "       [-2.23600028e-01, -9.35888809e-01],\n",
       "       [-9.16675287e-01, -4.67139670e-01],\n",
       "       [-2.33470287e+00,  6.27718219e-01],\n",
       "       [-2.13963622e+00, -6.41846254e-01],\n",
       "       [-5.96034335e-01, -8.93144817e-01],\n",
       "       [-2.95594828e+00, -6.30892284e-01],\n",
       "       [ 1.29444619e+00, -9.67151608e-01],\n",
       "       [ 2.78261528e+00,  5.80131395e-01],\n",
       "       [-1.45712090e+00,  1.31902972e-02],\n",
       "       [-1.25342174e+00,  7.63551163e-01],\n",
       "       [-5.40051638e-01,  9.03929868e-01],\n",
       "       [-1.05177909e+00,  7.55877424e-01],\n",
       "       [ 4.18995310e+00, -5.40564094e-01],\n",
       "       [ 1.66836055e+00,  8.25019964e-02],\n",
       "       [ 2.24628659e+00,  8.81052453e-02],\n",
       "       [-5.46178916e-01, -1.22980253e-01],\n",
       "       [ 2.61117517e+00,  2.24911050e-01],\n",
       "       [-3.21229248e-01, -5.09590338e-01],\n",
       "       [-4.87318065e-01,  1.27849517e+00],\n",
       "       [-1.62293605e+00, -6.79789220e-01],\n",
       "       [-1.25545082e+00, -1.41981030e+00],\n",
       "       [ 3.01830076e+00,  1.83531739e+00],\n",
       "       [-7.83416192e-01, -6.09046393e-01],\n",
       "       [-1.45691907e+00, -1.87386254e-01],\n",
       "       [ 7.20746015e-01, -1.06653534e+00],\n",
       "       [ 4.96848884e-01, -1.05875053e+00],\n",
       "       [-1.43530762e+00, -1.40951859e+00],\n",
       "       [-1.56825950e+00, -1.14319618e+00],\n",
       "       [ 5.26641186e-01,  7.99638010e-01],\n",
       "       [ 9.21863184e-01, -8.59020097e-01],\n",
       "       [ 8.99995931e+00,  1.32000159e+00],\n",
       "       [ 2.14088894e-02, -1.04512872e+00],\n",
       "       [-1.86654333e+00, -1.27571863e-01],\n",
       "       [-2.34187131e+00,  2.54996909e-01],\n",
       "       [ 7.56978598e-01, -4.17943372e-01],\n",
       "       [ 5.15698962e-01, -9.90388736e-01],\n",
       "       [-2.37108879e+00, -2.97747487e-01],\n",
       "       [ 3.07612096e+00, -1.51126439e+00],\n",
       "       [-1.69302741e+00,  7.07166540e-01],\n",
       "       [ 3.79854351e-01, -1.01441201e+00],\n",
       "       [-7.29669127e-01, -1.31018130e+00],\n",
       "       [-4.15589867e-01, -6.88062587e-01],\n",
       "       [-1.49727010e+00,  2.55874157e+00],\n",
       "       [ 2.99579153e-01, -1.09732349e+00],\n",
       "       [-6.13288052e-01, -9.40008914e-01],\n",
       "       [-2.17845251e+00, -2.38146341e-01],\n",
       "       [-1.85647159e+00,  1.87980152e-01],\n",
       "       [-8.22210898e-01, -8.00962961e-01],\n",
       "       [-1.65467188e+00,  4.29895599e-01],\n",
       "       [ 3.85601520e+00,  7.95750925e-02],\n",
       "       [ 1.92506651e+00,  3.20559020e-01],\n",
       "       [-2.36419963e+00, -6.16829585e-01],\n",
       "       [-4.65008848e+00,  9.48610782e+00],\n",
       "       [ 5.45800106e+00,  2.14005531e+00],\n",
       "       [ 1.14601454e+00,  1.35773442e+00],\n",
       "       [-2.04303412e+00,  4.43598927e-01],\n",
       "       [ 6.38358579e-01, -1.07847583e+00],\n",
       "       [-3.59426718e-01, -5.79519724e-01],\n",
       "       [-4.97937057e-01, -1.97771704e-01],\n",
       "       [-9.75753594e-01, -5.23482477e-01],\n",
       "       [ 7.10504785e-01, -6.18878975e-01],\n",
       "       [ 1.45187254e+00, -4.62704261e-01],\n",
       "       [ 5.84602114e+00,  2.88262458e+00],\n",
       "       [ 8.10967085e-02, -4.72762621e-01],\n",
       "       [-1.78209827e-01,  8.72695764e-01],\n",
       "       [-1.58728094e+00, -7.64943035e-01],\n",
       "       [-7.54732636e-01, -9.41063863e-01],\n",
       "       [ 8.97079166e-01,  1.58623950e+00],\n",
       "       [-1.59104684e+00, -7.69155826e-01],\n",
       "       [ 2.28611710e-02, -6.29434800e-01],\n",
       "       [ 1.26854910e+00, -1.84382127e+00],\n",
       "       [-2.60597576e+00,  6.53485143e-01],\n",
       "       [ 6.02179991e+00, -9.01904489e-01],\n",
       "       [ 1.58040968e+00, -1.06451378e+00],\n",
       "       [ 1.97613659e+00, -8.45420204e-01],\n",
       "       [-9.53747046e-01, -9.33910271e-01],\n",
       "       [-9.70175922e-01, -1.84873972e-01],\n",
       "       [ 1.58245930e+00, -1.97893027e-01],\n",
       "       [ 1.92213965e+00, -9.23527368e-02],\n",
       "       [-1.22211770e+00,  1.39217431e+00],\n",
       "       [-3.89230711e-01, -6.42181306e-01],\n",
       "       [-2.09689004e+00,  1.19548799e+00],\n",
       "       [-9.22779942e-02, -1.78185399e-01],\n",
       "       [ 3.44489634e+00,  4.57842786e-01],\n",
       "       [ 5.27305812e+00,  8.33671084e-01],\n",
       "       [-1.49723503e+00, -2.30195667e-02],\n",
       "       [-2.08777862e+00,  7.00539620e-02],\n",
       "       [ 2.72421175e-01, -7.74816774e-01],\n",
       "       [-2.21329737e+00,  1.77419096e+00],\n",
       "       [-1.54749155e+00, -1.10048747e+00],\n",
       "       [-9.80561110e-01, -7.82789575e-01],\n",
       "       [-3.30095216e-02, -8.14978661e-01],\n",
       "       [-1.58069975e-02,  8.43315452e-02],\n",
       "       [-4.06960487e-01, -6.94160119e-01],\n",
       "       [-2.25593928e+00,  1.52563941e-01],\n",
       "       [-4.57438978e-01,  2.98301007e-03],\n",
       "       [ 2.71214425e+00,  1.24515968e+00],\n",
       "       [ 2.33071890e+00,  2.56719581e-01],\n",
       "       [ 3.10109511e+00,  5.42538827e-01],\n",
       "       [ 1.94979597e-01, -1.75074271e-01],\n",
       "       [-1.28772248e+00,  6.10550218e-01],\n",
       "       [-8.81589251e-01, -9.18743324e-01],\n",
       "       [-9.98548653e-01,  3.99953894e+00],\n",
       "       [-2.66311881e-01, -4.75395254e-01],\n",
       "       [-1.87806843e+00,  1.39323127e+00],\n",
       "       [-2.18048143e+00,  5.20511880e-01]])"
      ]
     },
     "execution_count": 526,
     "metadata": {},
     "output_type": "execute_result"
    }
   ],
   "source": [
    "scaled_train_data"
   ]
  },
  {
   "cell_type": "markdown",
   "id": "f700c2ba",
   "metadata": {},
   "source": [
    "Because of Many Outliers -> we use KMeans or AgglomerativeCluster"
   ]
  },
  {
   "cell_type": "markdown",
   "id": "6b8b0f10",
   "metadata": {},
   "source": [
    "1. Use KMeans"
   ]
  },
  {
   "cell_type": "code",
   "execution_count": 527,
   "id": "30fb1033",
   "metadata": {},
   "outputs": [],
   "source": [
    "from sklearn.cluster import KMeans\n",
    "from yellowbrick.cluster import KElbowVisualizer"
   ]
  },
  {
   "cell_type": "code",
   "execution_count": 528,
   "id": "a609b765",
   "metadata": {},
   "outputs": [],
   "source": [
    "MODEL = KMeans(max_iter = 500, random_state = 10)"
   ]
  },
  {
   "cell_type": "code",
   "execution_count": 529,
   "id": "40200e26",
   "metadata": {},
   "outputs": [
    {
     "data": {
      "image/png": "[encoded data removed]",
      "text/plain": [
       "<Figure size 800x550 with 2 Axes>"
      ]
     },
     "metadata": {},
     "output_type": "display_data"
    },
    {
     "data": {
      "text/plain": [
       "<Axes: title={'center': 'Distortion Score Elbow for KMeans Clustering'}, xlabel='k', ylabel='distortion score'>"
      ]
     },
     "execution_count": 529,
     "metadata": {},
     "output_type": "execute_result"
    }
   ],
   "source": [
    "elbow_visualizer = KElbowVisualizer(estimator= MODEL, k = (1,11))\n",
    "elbow_visualizer.fit(scaled_train_data)\n",
    "elbow_visualizer.show()"
   ]
  },
  {
   "cell_type": "code",
   "execution_count": 530,
   "id": "fb3e5b04",
   "metadata": {},
   "outputs": [],
   "source": [
    "MODEL = KMeans(n_clusters = 3,max_iter = 500, random_state = 10)"
   ]
  },
  {
   "cell_type": "code",
   "execution_count": 531,
   "id": "b832cca6",
   "metadata": {},
   "outputs": [],
   "source": [
    "prediction = MODEL.fit_predict(scaled_train_data)"
   ]
  },
  {
   "cell_type": "code",
   "execution_count": 532,
   "id": "0dfc458c",
   "metadata": {},
   "outputs": [],
   "source": [
    "result_data = data"
   ]
  },
  {
   "cell_type": "code",
   "execution_count": 533,
   "id": "478a84f8",
   "metadata": {},
   "outputs": [],
   "source": [
    "def func(x) : \n",
    "    return LABEL_ENCODER.classes_[x]"
   ]
  },
  {
   "cell_type": "code",
   "execution_count": 534,
   "id": "e4c75bc3",
   "metadata": {},
   "outputs": [],
   "source": [
    "result_data['country'] = result_data[\"country\"].apply(func)"
   ]
  },
  {
   "cell_type": "code",
   "execution_count": 535,
   "id": "2da9ca84",
   "metadata": {},
   "outputs": [],
   "source": [
    "result_data[\"Class\"] = prediction"
   ]
  },
  {
   "cell_type": "code",
   "execution_count": 536,
   "id": "9aad43cc",
   "metadata": {},
   "outputs": [],
   "source": [
    "grouping_hasil = result_data.groupby(by = \"Class\")[result_data.columns[1:-1]].agg(\"mean\")"
   ]
  },
  {
   "cell_type": "code",
   "execution_count": 537,
   "id": "c2e97852",
   "metadata": {},
   "outputs": [
    {
     "data": {
      "text/html": [
       "<div>\n",
       "<style scoped>\n",
       "    .dataframe tbody tr th:only-of-type {\n",
       "        vertical-align: middle;\n",
       "    }\n",
       "\n",
       "    .dataframe tbody tr th {\n",
       "        vertical-align: top;\n",
       "    }\n",
       "\n",
       "    .dataframe thead th {\n",
       "        text-align: right;\n",
       "    }\n",
       "</style>\n",
       "<table border=\"1\" class=\"dataframe\">\n",
       "  <thead>\n",
       "    <tr style=\"text-align: right;\">\n",
       "      <th></th>\n",
       "      <th>child_mort</th>\n",
       "      <th>exports</th>\n",
       "      <th>health</th>\n",
       "      <th>imports</th>\n",
       "      <th>income</th>\n",
       "      <th>inflation</th>\n",
       "      <th>life_expec</th>\n",
       "      <th>total_fer</th>\n",
       "      <th>gdpp</th>\n",
       "    </tr>\n",
       "    <tr>\n",
       "      <th>Class</th>\n",
       "      <th></th>\n",
       "      <th></th>\n",
       "      <th></th>\n",
       "      <th></th>\n",
       "      <th></th>\n",
       "      <th></th>\n",
       "      <th></th>\n",
       "      <th></th>\n",
       "      <th></th>\n",
       "    </tr>\n",
       "  </thead>\n",
       "  <tbody>\n",
       "    <tr>\n",
       "      <th>0</th>\n",
       "      <td>5.087097</td>\n",
       "      <td>60.351613</td>\n",
       "      <td>8.780000</td>\n",
       "      <td>51.570968</td>\n",
       "      <td>48529.032258</td>\n",
       "      <td>2.988194</td>\n",
       "      <td>80.364516</td>\n",
       "      <td>1.808387</td>\n",
       "      <td>45867.741935</td>\n",
       "    </tr>\n",
       "    <tr>\n",
       "      <th>1</th>\n",
       "      <td>78.196667</td>\n",
       "      <td>28.044983</td>\n",
       "      <td>5.713333</td>\n",
       "      <td>36.176098</td>\n",
       "      <td>5331.716667</td>\n",
       "      <td>14.038583</td>\n",
       "      <td>62.688333</td>\n",
       "      <td>4.421333</td>\n",
       "      <td>2413.466667</td>\n",
       "    </tr>\n",
       "    <tr>\n",
       "      <th>2</th>\n",
       "      <td>20.284211</td>\n",
       "      <td>43.573684</td>\n",
       "      <td>6.884737</td>\n",
       "      <td>53.439474</td>\n",
       "      <td>13669.210526</td>\n",
       "      <td>4.797592</td>\n",
       "      <td>72.765789</td>\n",
       "      <td>2.249605</td>\n",
       "      <td>7872.447368</td>\n",
       "    </tr>\n",
       "  </tbody>\n",
       "</table>\n",
       "</div>"
      ],
      "text/plain": [
       "       child_mort    exports    health    imports        income  inflation  \\\n",
       "Class                                                                        \n",
       "0        5.087097  60.351613  8.780000  51.570968  48529.032258   2.988194   \n",
       "1       78.196667  28.044983  5.713333  36.176098   5331.716667  14.038583   \n",
       "2       20.284211  43.573684  6.884737  53.439474  13669.210526   4.797592   \n",
       "\n",
       "       life_expec  total_fer          gdpp  \n",
       "Class                                       \n",
       "0       80.364516   1.808387  45867.741935  \n",
       "1       62.688333   4.421333   2413.466667  \n",
       "2       72.765789   2.249605   7872.447368  "
      ]
     },
     "execution_count": 537,
     "metadata": {},
     "output_type": "execute_result"
    }
   ],
   "source": [
    "grouping_hasil"
   ]
  },
  {
   "cell_type": "code",
   "execution_count": 538,
   "id": "5dae64d9",
   "metadata": {},
   "outputs": [],
   "source": [
    "# scaled_train_data\n",
    "# prediction"
   ]
  },
  {
   "cell_type": "code",
   "execution_count": 539,
   "id": "07fdd6b6",
   "metadata": {},
   "outputs": [
    {
     "data": {
      "application/vnd.plotly.v1+json": {
       "config": {
        "plotlyServerURL": "https://plot.ly"
       },
       "data": [
        {
         "hovertemplate": "Fiture X=%{x}<br>y=%{y}<br>color=%{marker.color}<extra></extra>",
         "legendgroup": "",
         "marker": {
          "color": {
           "bdata": "AQAAAAIAAAABAAAAAQAAAAIAAAABAAAAAgAAAAAAAAAAAAAAAQAAAAIAAAAAAAAAAQAAAAIAAAACAAAAAAAAAAIAAAABAAAAAgAAAAEAAAACAAAAAgAAAAIAAAAAAAAAAgAAAAEAAAABAAAAAgAAAAEAAAAAAAAAAgAAAAEAAAABAAAAAgAAAAIAAAACAAAAAQAAAAEAAAABAAAAAgAAAAEAAAACAAAAAAAAAAIAAAAAAAAAAgAAAAIAAAABAAAAAgAAAAEAAAABAAAAAgAAAAIAAAAAAAAAAAAAAAEAAAABAAAAAgAAAAAAAAABAAAAAgAAAAIAAAACAAAAAQAAAAEAAAACAAAAAQAAAAIAAAAAAAAAAQAAAAEAAAABAAAAAQAAAAAAAAAAAAAAAAAAAAIAAAAAAAAAAgAAAAEAAAABAAAAAgAAAAAAAAACAAAAAQAAAAIAAAACAAAAAgAAAAEAAAACAAAAAgAAAAAAAAACAAAAAQAAAAEAAAACAAAAAgAAAAEAAAAAAAAAAQAAAAIAAAACAAAAAgAAAAEAAAACAAAAAgAAAAEAAAABAAAAAgAAAAEAAAAAAAAAAAAAAAEAAAABAAAAAAAAAAIAAAABAAAAAgAAAAIAAAACAAAAAgAAAAIAAAACAAAAAAAAAAIAAAACAAAAAQAAAAIAAAACAAAAAQAAAAIAAAACAAAAAQAAAAAAAAACAAAAAAAAAAIAAAABAAAAAgAAAAAAAAABAAAAAgAAAAEAAAACAAAAAAAAAAAAAAABAAAAAQAAAAIAAAABAAAAAQAAAAIAAAACAAAAAgAAAAIAAAABAAAAAgAAAAAAAAAAAAAAAAAAAAIAAAABAAAAAgAAAAEAAAACAAAAAQAAAAEAAAA=",
           "dtype": "i4"
          },
          "coloraxis": "coloraxis",
          "symbol": "circle"
         },
         "mode": "markers",
         "name": "",
         "orientation": "v",
         "showlegend": false,
         "type": "scatter",
         "x": {
          "bdata": "vrWg6UFbAsA6nTmS0IzRv7+DC6kU7ea/2sGu/D16AMA+EwM4virkP0pImxow/ty/PnEyct4W57+dvz3dyBQIQHPo7WTSxgpAnhbsevFx3r/1rXtOAE72P/J9+8CdTvk/g5BxAYaZ9r96LUBPI6jnP1jNcp158ba/73TOKsOsC0Caj0WTohTFv7K1Ny/xdf+/MnHDKkoe479CMXVNvUjwv+RSDF1HN7k/iiyyy0F76L+qzfDH77rQvwNJWf802QZAAdDq8rst1D9lidVpHYkCwOdU4VAxvwLAamURH88d6r++BiCXd10AwL8SMYTbpwdA0xyFjKAv4b9zdCaZF+kFwDRIK5AjEQPAiUCOeWCX2z/RBjZYjxzhv+RN7oBfHdq/93C4R1k6/L/tazATAXcDwFEhm4V7B/a/ng+4yt0AyD8wUbUErBb9vwQZArfxGuY/gs51c5clAUCwm24lwn37PwN1VErDTQ5AhsFQWeF14r9sKr2GVkngv8PHx0GnxfG/Pzv+rpeU378QXRBZVkfQv95YUuRNuAHAaD34bPrU8z/aG+SVxOzcv0VWmo/TkgdA2U7mQgUXBEC+ZNA78oDvv3VFQuuCpfy/1NgaWeIS279fZARqwSoHQPEuuLm+x/2/yqWEQkhP+T+aisz77J7Mv3K3MWlnVe2/SzI6snitAsDxyoiX+R0BwNbgyJi2EuO/+kvZNcilB8Csjdw1Dbb0P8x0aczLQgZAqub4AF5Q97/wTWH0Aw70v0lOdF8aSOG/lS9PThbU8L/vJM0Qg8IQQC4m09Sasfo/6qPhGmX4AUDFoOI0THrhv3LvKM+v4wRAIPABHwWP1L8WmRwcODDfv9gxAMuL9/m/Soi3mVMW9L9G2JXeeiUIQIMZPtW+Eem/BiivXYpP97+qkJryWRDnP4V5ZUNfzN8/v9j1HgX39r9J1wNHlxf5vwa8150+2uA/bgpxOOd/7T+pwLCq+v8hQLCAyT427JU/YBhuiVzd/b+B74kGJ7wCwEywVS4rOeg/TgcvHJuA4D8Idqlm/fcCwDGDMU7lmwhAEv/b6KMW+79hXwCgiE/YP5pbcxFzWee/OgZjPQaZ2r9bsw5/0fT3v1dqJQpOLNM/ajGOQw6g47/i6OeBeG0BwFn/AY0btP2/w/PLOo1P6r8hNtc5iXn6vyWcu38e2Q5A+vmwixLN/j+G71N+4ekCwApfZMuwmRLAaU8KO/7UFUCA9ABXE1byP/z4W0YiWADA+vCJ+G5t5D92uKHr2ADXv7p422Mz3t+/rtyomV8577+EBPGHdLzmP+PLm7LeOvc/0YnDXVNiF0CYMZ/+wMK0P2IKr2GUz8a/ND0Ws4Bl+b/6Gd0OxSbov+gELV7ftOw/vWIwie10+b+QHn0362iXPzr+1iT6S/Q/s4oZ0gnZBMAIuOy2UhYYQBtXBKpbSfk/cFawZUGe/z9ijjqGGIXuv/7p4F+uC++/+MCW1sBR+T+cULqAFcH+PySUpEnLjfO/eNIa7Sfp2L9/Gr5IbsYAwGS0MdeHn7e/aOpS0CWPC0BeujqMnBcVQDQ+Z7es9Pe/TdxiRsWzAMAFt5w5WW/RP5gExD/VtAHAE3y0fobC+L8kWZKxwWDvv9BjI7+f5qC/YL8MprUvkL9fhH3/owvav0Q8UuUpDALAbH4/Iq5G3b9nbIaveLIFQOjY/vNPpQJASVis8wrPCECKfe9nF/XIP2oyOOSCmvS/Ac0uqfo17L+uNd5NHPTvv7yu5PxAC9G/uhVxepEM/r8Xp2Y/oHEBwA==",
          "dtype": "f8"
         },
         "xaxis": "x",
         "y": {
          "bdata": "MNCHZRtLs7/uQg+hsPDlv7Smuahw/ug/hglf6o/K9j9VjY397gHpv/CZD815r/c/Vku1cQlk1L+uRbTBUUPnP+KB+2ZVX8c/oBxr9PcF5D8Y1eUAgxPcv+E2A7R1x9U/rK0N3tg/wr+IBRCFx7/pvxlHxyxMVNA/SAIjwA1juL977v2nQEjxvy7epUIoA+e/02NAuijI6L+IqWnNzYW3v0jO/xMNufK/LFww0GAdx7/ZjmSS2GPQP7eL5K0v2gJAcLsgqwuL7780rjsLRdu/v5onsrsC38I/ApWebR138L9ViZshmkrhv0K+yi9MKuI/ifcRaZBg8r9x73emtabdv3au6Dh71Ma/gsUPcE0FyD8gLPKhA0PBv0HMUyPW6Na/dLR353OT5L8s/dbHW6HuP75N9o12gu4/9L6ReoEV1r+cQBUGY8Pav1qLDo4TDeW/GPE6Mgl9wr8e3ljC/fntv275TNP/N+c/gIoLf7Bu07+u9Lm+miHLv2LkkdIEg8k/roFC8P8W7L9eyV3afSUAQKmr9dVJC9o/8qJejEec6r/aejMWBIjrv0HFsO6HEdI/Vp4AY+VZzD/r1PuaILryP4snEobpwOC/aBnU1Fd04L/M1VjGW5e/P0qSLCjIuuI/YJd36iChzb8UdZ8WzfLtv03whsmd5d2/UDnfhEQW5D8mi34nAYrkv75HW3CklOy/8Ef4A0Uw5L+8LgXu5/Luv9yuK7dvkOI/YBhPuoMDiz8oz1XZAm/oP5rcc1T+7Ow/BNnB2SUw6D/7+hESTUzhvxyBSNDZHrU/ZOAQuxCOtj/42LtGonu/vzbfiKLiycw/OV5oZZBO4L9yDCpZt3T0P+/XxVLVwOW/jxSLAIu39r8Bc6PEdV39P4ZrfdxOfeO/DCai1EX8x78fEUVchxDxvwHYf2ak8PC/QjpfXmON9r8Z6d4SiEryv45kkHOiluk/qqzUthd967+yRnv8uR71P8eMQOPYuPC/pHOMWUZUwL/J9x2O3lHQP7ty2I6Vv9q/8JLWt0Ox77/QNs55Sw7Tv8C9epIjLvi/YABeuRuh5j/eXBsXCDvwvysRn6mA9vS/eECh1JsE5r8/u2Z/TXgEQLqRDBSjjvG/1E4tk40U7r/4uMVNlHvOvy7bR8+7D8g/MhWVE32h6b/JQQ7VaIPbP4yIz4MIX7Q/4fA1+wmE1D+jLKZlEb3jv+cI5h/j+CJAoFcCUtUeAUD/lEK6R7n1P/1U7sDsY9w/63tW329B8b+QbM/ybIviv3rrrUyVUMm/fJXaUl7A4L+eYMNH283jvyVCJ1XynN2/nA34eZ0PB0DQVUInvkHevwhMmaof7es/14oE0Wl66L8O8m32MR3uv88qYqw8Yfk/aG3Freyc6L80DuNyVCTkv2Z/A7xKgP2/znyarFnp5D/98p7NZtzsv8GYs5k/CPG/p+u7q64N67/gRyHLl+Ltv5hrNEfzqce/lNb8B49Uyb8o+UjQbaS3vxQMnZBYRvY/vZxYz7+M5L/FlaYCuCDzP2RxjXbHzsa/SYbS00tN3T82QjD7bq3qP/De2Pdwkpe/fOzQcw7vsT9AFUiMTMvov+2E7A8WY/w/7cSMwJib8b8o4Qu5nAzpv/5xHyFOFOq//E3SjMCWtT+HfUxIjzbmv+rlTBg3h8M/gBU3VtNvaD/qj16OLOzzP9VM2/YXbtA/Xs7FYnpc4T/yEkpu1WjGv9wbJZygieM/kIsJZlhm7b+uGdJFDv8PQPauXTfgbN6/lQFO4KxK9j/AGICHCKjgPw==",
          "dtype": "f8"
         },
         "yaxis": "y"
        }
       ],
       "layout": {
        "coloraxis": {
         "colorbar": {
          "title": {
           "text": "color"
          }
         },
         "colorscale": [
          [
           0,
           "#0d0887"
          ],
          [
           0.1111111111111111,
           "#46039f"
          ],
          [
           0.2222222222222222,
           "#7201a8"
          ],
          [
           0.3333333333333333,
           "#9c179e"
          ],
          [
           0.4444444444444444,
           "#bd3786"
          ],
          [
           0.5555555555555556,
           "#d8576b"
          ],
          [
           0.6666666666666666,
           "#ed7953"
          ],
          [
           0.7777777777777778,
           "#fb9f3a"
          ],
          [
           0.8888888888888888,
           "#fdca26"
          ],
          [
           1,
           "#f0f921"
          ]
         ]
        },
        "legend": {
         "tracegroupgap": 0
        },
        "template": {
         "data": {
          "bar": [
           {
            "error_x": {
             "color": "#2a3f5f"
            },
            "error_y": {
             "color": "#2a3f5f"
            },
            "marker": {
             "line": {
              "color": "#E5ECF6",
              "width": 0.5
             },
             "pattern": {
              "fillmode": "overlay",
              "size": 10,
              "solidity": 0.2
             }
            },
            "type": "bar"
           }
          ],
          "barpolar": [
           {
            "marker": {
             "line": {
              "color": "#E5ECF6",
              "width": 0.5
             },
             "pattern": {
              "fillmode": "overlay",
              "size": 10,
              "solidity": 0.2
             }
            },
            "type": "barpolar"
           }
          ],
          "carpet": [
           {
            "aaxis": {
             "endlinecolor": "#2a3f5f",
             "gridcolor": "white",
             "linecolor": "white",
             "minorgridcolor": "white",
             "startlinecolor": "#2a3f5f"
            },
            "baxis": {
             "endlinecolor": "#2a3f5f",
             "gridcolor": "white",
             "linecolor": "white",
             "minorgridcolor": "white",
             "startlinecolor": "#2a3f5f"
            },
            "type": "carpet"
           }
          ],
          "choropleth": [
           {
            "colorbar": {
             "outlinewidth": 0,
             "ticks": ""
            },
            "type": "choropleth"
           }
          ],
          "contour": [
           {
            "colorbar": {
             "outlinewidth": 0,
             "ticks": ""
            },
            "colorscale": [
             [
              0,
              "#0d0887"
             ],
             [
              0.1111111111111111,
              "#46039f"
             ],
             [
              0.2222222222222222,
              "#7201a8"
             ],
             [
              0.3333333333333333,
              "#9c179e"
             ],
             [
              0.4444444444444444,
              "#bd3786"
             ],
             [
              0.5555555555555556,
              "#d8576b"
             ],
             [
              0.6666666666666666,
              "#ed7953"
             ],
             [
              0.7777777777777778,
              "#fb9f3a"
             ],
             [
              0.8888888888888888,
              "#fdca26"
             ],
             [
              1,
              "#f0f921"
             ]
            ],
            "type": "contour"
           }
          ],
          "contourcarpet": [
           {
            "colorbar": {
             "outlinewidth": 0,
             "ticks": ""
            },
            "type": "contourcarpet"
           }
          ],
          "heatmap": [
           {
            "colorbar": {
             "outlinewidth": 0,
             "ticks": ""
            },
            "colorscale": [
             [
              0,
              "#0d0887"
             ],
             [
              0.1111111111111111,
              "#46039f"
             ],
             [
              0.2222222222222222,
              "#7201a8"
             ],
             [
              0.3333333333333333,
              "#9c179e"
             ],
             [
              0.4444444444444444,
              "#bd3786"
             ],
             [
              0.5555555555555556,
              "#d8576b"
             ],
             [
              0.6666666666666666,
              "#ed7953"
             ],
             [
              0.7777777777777778,
              "#fb9f3a"
             ],
             [
              0.8888888888888888,
              "#fdca26"
             ],
             [
              1,
              "#f0f921"
             ]
            ],
            "type": "heatmap"
           }
          ],
          "histogram": [
           {
            "marker": {
             "pattern": {
              "fillmode": "overlay",
              "size": 10,
              "solidity": 0.2
             }
            },
            "type": "histogram"
           }
          ],
          "histogram2d": [
           {
            "colorbar": {
             "outlinewidth": 0,
             "ticks": ""
            },
            "colorscale": [
             [
              0,
              "#0d0887"
             ],
             [
              0.1111111111111111,
              "#46039f"
             ],
             [
              0.2222222222222222,
              "#7201a8"
             ],
             [
              0.3333333333333333,
              "#9c179e"
             ],
             [
              0.4444444444444444,
              "#bd3786"
             ],
             [
              0.5555555555555556,
              "#d8576b"
             ],
             [
              0.6666666666666666,
              "#ed7953"
             ],
             [
              0.7777777777777778,
              "#fb9f3a"
             ],
             [
              0.8888888888888888,
              "#fdca26"
             ],
             [
              1,
              "#f0f921"
             ]
            ],
            "type": "histogram2d"
           }
          ],
          "histogram2dcontour": [
           {
            "colorbar": {
             "outlinewidth": 0,
             "ticks": ""
            },
            "colorscale": [
             [
              0,
              "#0d0887"
             ],
             [
              0.1111111111111111,
              "#46039f"
             ],
             [
              0.2222222222222222,
              "#7201a8"
             ],
             [
              0.3333333333333333,
              "#9c179e"
             ],
             [
              0.4444444444444444,
              "#bd3786"
             ],
             [
              0.5555555555555556,
              "#d8576b"
             ],
             [
              0.6666666666666666,
              "#ed7953"
             ],
             [
              0.7777777777777778,
              "#fb9f3a"
             ],
             [
              0.8888888888888888,
              "#fdca26"
             ],
             [
              1,
              "#f0f921"
             ]
            ],
            "type": "histogram2dcontour"
           }
          ],
          "mesh3d": [
           {
            "colorbar": {
             "outlinewidth": 0,
             "ticks": ""
            },
            "type": "mesh3d"
           }
          ],
          "parcoords": [
           {
            "line": {
             "colorbar": {
              "outlinewidth": 0,
              "ticks": ""
             }
            },
            "type": "parcoords"
           }
          ],
          "pie": [
           {
            "automargin": true,
            "type": "pie"
           }
          ],
          "scatter": [
           {
            "fillpattern": {
             "fillmode": "overlay",
             "size": 10,
             "solidity": 0.2
            },
            "type": "scatter"
           }
          ],
          "scatter3d": [
           {
            "line": {
             "colorbar": {
              "outlinewidth": 0,
              "ticks": ""
             }
            },
            "marker": {
             "colorbar": {
              "outlinewidth": 0,
              "ticks": ""
             }
            },
            "type": "scatter3d"
           }
          ],
          "scattercarpet": [
           {
            "marker": {
             "colorbar": {
              "outlinewidth": 0,
              "ticks": ""
             }
            },
            "type": "scattercarpet"
           }
          ],
          "scattergeo": [
           {
            "marker": {
             "colorbar": {
              "outlinewidth": 0,
              "ticks": ""
             }
            },
            "type": "scattergeo"
           }
          ],
          "scattergl": [
           {
            "marker": {
             "colorbar": {
              "outlinewidth": 0,
              "ticks": ""
             }
            },
            "type": "scattergl"
           }
          ],
          "scattermap": [
           {
            "marker": {
             "colorbar": {
              "outlinewidth": 0,
              "ticks": ""
             }
            },
            "type": "scattermap"
           }
          ],
          "scattermapbox": [
           {
            "marker": {
             "colorbar": {
              "outlinewidth": 0,
              "ticks": ""
             }
            },
            "type": "scattermapbox"
           }
          ],
          "scatterpolar": [
           {
            "marker": {
             "colorbar": {
              "outlinewidth": 0,
              "ticks": ""
             }
            },
            "type": "scatterpolar"
           }
          ],
          "scatterpolargl": [
           {
            "marker": {
             "colorbar": {
              "outlinewidth": 0,
              "ticks": ""
             }
            },
            "type": "scatterpolargl"
           }
          ],
          "scatterternary": [
           {
            "marker": {
             "colorbar": {
              "outlinewidth": 0,
              "ticks": ""
             }
            },
            "type": "scatterternary"
           }
          ],
          "surface": [
           {
            "colorbar": {
             "outlinewidth": 0,
             "ticks": ""
            },
            "colorscale": [
             [
              0,
              "#0d0887"
             ],
             [
              0.1111111111111111,
              "#46039f"
             ],
             [
              0.2222222222222222,
              "#7201a8"
             ],
             [
              0.3333333333333333,
              "#9c179e"
             ],
             [
              0.4444444444444444,
              "#bd3786"
             ],
             [
              0.5555555555555556,
              "#d8576b"
             ],
             [
              0.6666666666666666,
              "#ed7953"
             ],
             [
              0.7777777777777778,
              "#fb9f3a"
             ],
             [
              0.8888888888888888,
              "#fdca26"
             ],
             [
              1,
              "#f0f921"
             ]
            ],
            "type": "surface"
           }
          ],
          "table": [
           {
            "cells": {
             "fill": {
              "color": "#EBF0F8"
             },
             "line": {
              "color": "white"
             }
            },
            "header": {
             "fill": {
              "color": "#C8D4E3"
             },
             "line": {
              "color": "white"
             }
            },
            "type": "table"
           }
          ]
         },
         "layout": {
          "annotationdefaults": {
           "arrowcolor": "#2a3f5f",
           "arrowhead": 0,
           "arrowwidth": 1
          },
          "autotypenumbers": "strict",
          "coloraxis": {
           "colorbar": {
            "outlinewidth": 0,
            "ticks": ""
           }
          },
          "colorscale": {
           "diverging": [
            [
             0,
             "#8e0152"
            ],
            [
             0.1,
             "#c51b7d"
            ],
            [
             0.2,
             "#de77ae"
            ],
            [
             0.3,
             "#f1b6da"
            ],
            [
             0.4,
             "#fde0ef"
            ],
            [
             0.5,
             "#f7f7f7"
            ],
            [
             0.6,
             "#e6f5d0"
            ],
            [
             0.7,
             "#b8e186"
            ],
            [
             0.8,
             "#7fbc41"
            ],
            [
             0.9,
             "#4d9221"
            ],
            [
             1,
             "#276419"
            ]
           ],
           "sequential": [
            [
             0,
             "#0d0887"
            ],
            [
             0.1111111111111111,
             "#46039f"
            ],
            [
             0.2222222222222222,
             "#7201a8"
            ],
            [
             0.3333333333333333,
             "#9c179e"
            ],
            [
             0.4444444444444444,
             "#bd3786"
            ],
            [
             0.5555555555555556,
             "#d8576b"
            ],
            [
             0.6666666666666666,
             "#ed7953"
            ],
            [
             0.7777777777777778,
             "#fb9f3a"
            ],
            [
             0.8888888888888888,
             "#fdca26"
            ],
            [
             1,
             "#f0f921"
            ]
           ],
           "sequentialminus": [
            [
             0,
             "#0d0887"
            ],
            [
             0.1111111111111111,
             "#46039f"
            ],
            [
             0.2222222222222222,
             "#7201a8"
            ],
            [
             0.3333333333333333,
             "#9c179e"
            ],
            [
             0.4444444444444444,
             "#bd3786"
            ],
            [
             0.5555555555555556,
             "#d8576b"
            ],
            [
             0.6666666666666666,
             "#ed7953"
            ],
            [
             0.7777777777777778,
             "#fb9f3a"
            ],
            [
             0.8888888888888888,
             "#fdca26"
            ],
            [
             1,
             "#f0f921"
            ]
           ]
          },
          "colorway": [
           "#636efa",
           "#EF553B",
           "#00cc96",
           "#ab63fa",
           "#FFA15A",
           "#19d3f3",
           "#FF6692",
           "#B6E880",
           "#FF97FF",
           "#FECB52"
          ],
          "font": {
           "color": "#2a3f5f"
          },
          "geo": {
           "bgcolor": "white",
           "lakecolor": "white",
           "landcolor": "#E5ECF6",
           "showlakes": true,
           "showland": true,
           "subunitcolor": "white"
          },
          "hoverlabel": {
           "align": "left"
          },
          "hovermode": "closest",
          "mapbox": {
           "style": "light"
          },
          "paper_bgcolor": "white",
          "plot_bgcolor": "#E5ECF6",
          "polar": {
           "angularaxis": {
            "gridcolor": "white",
            "linecolor": "white",
            "ticks": ""
           },
           "bgcolor": "#E5ECF6",
           "radialaxis": {
            "gridcolor": "white",
            "linecolor": "white",
            "ticks": ""
           }
          },
          "scene": {
           "xaxis": {
            "backgroundcolor": "#E5ECF6",
            "gridcolor": "white",
            "gridwidth": 2,
            "linecolor": "white",
            "showbackground": true,
            "ticks": "",
            "zerolinecolor": "white"
           },
           "yaxis": {
            "backgroundcolor": "#E5ECF6",
            "gridcolor": "white",
            "gridwidth": 2,
            "linecolor": "white",
            "showbackground": true,
            "ticks": "",
            "zerolinecolor": "white"
           },
           "zaxis": {
            "backgroundcolor": "#E5ECF6",
            "gridcolor": "white",
            "gridwidth": 2,
            "linecolor": "white",
            "showbackground": true,
            "ticks": "",
            "zerolinecolor": "white"
           }
          },
          "shapedefaults": {
           "line": {
            "color": "#2a3f5f"
           }
          },
          "ternary": {
           "aaxis": {
            "gridcolor": "white",
            "linecolor": "white",
            "ticks": ""
           },
           "baxis": {
            "gridcolor": "white",
            "linecolor": "white",
            "ticks": ""
           },
           "bgcolor": "#E5ECF6",
           "caxis": {
            "gridcolor": "white",
            "linecolor": "white",
            "ticks": ""
           }
          },
          "title": {
           "x": 0.05
          },
          "xaxis": {
           "automargin": true,
           "gridcolor": "white",
           "linecolor": "white",
           "ticks": "",
           "title": {
            "standoff": 15
           },
           "zerolinecolor": "white",
           "zerolinewidth": 2
          },
          "yaxis": {
           "automargin": true,
           "gridcolor": "white",
           "linecolor": "white",
           "ticks": "",
           "title": {
            "standoff": 15
           },
           "zerolinecolor": "white",
           "zerolinewidth": 2
          }
         }
        },
        "title": {
         "text": "PCA Plotting"
        },
        "xaxis": {
         "anchor": "y",
         "domain": [
          0,
          1
         ],
         "title": {
          "text": "Fiture X"
         }
        },
        "yaxis": {
         "anchor": "x",
         "domain": [
          0,
          1
         ],
         "title": {
          "text": "y"
         }
        }
       }
      }
     },
     "metadata": {},
     "output_type": "display_data"
    }
   ],
   "source": [
    "plot.scatter(x = scaled_train_data[:,0], y = scaled_train_data[:,1], color = prediction, labels = {\"x\":\"Fiture X\", \"Y\" : \"Fiture Y\"}, title = \"PCA Plotting\")"
   ]
  },
  {
   "cell_type": "code",
   "execution_count": 540,
   "id": "711bb9bb",
   "metadata": {},
   "outputs": [
    {
     "data": {
      "text/html": [
       "<div>\n",
       "<style scoped>\n",
       "    .dataframe tbody tr th:only-of-type {\n",
       "        vertical-align: middle;\n",
       "    }\n",
       "\n",
       "    .dataframe tbody tr th {\n",
       "        vertical-align: top;\n",
       "    }\n",
       "\n",
       "    .dataframe thead th {\n",
       "        text-align: right;\n",
       "    }\n",
       "</style>\n",
       "<table border=\"1\" class=\"dataframe\">\n",
       "  <thead>\n",
       "    <tr style=\"text-align: right;\">\n",
       "      <th></th>\n",
       "      <th>child_mort</th>\n",
       "      <th>exports</th>\n",
       "      <th>health</th>\n",
       "      <th>imports</th>\n",
       "      <th>income</th>\n",
       "      <th>inflation</th>\n",
       "      <th>life_expec</th>\n",
       "      <th>total_fer</th>\n",
       "      <th>gdpp</th>\n",
       "    </tr>\n",
       "    <tr>\n",
       "      <th>Class</th>\n",
       "      <th></th>\n",
       "      <th></th>\n",
       "      <th></th>\n",
       "      <th></th>\n",
       "      <th></th>\n",
       "      <th></th>\n",
       "      <th></th>\n",
       "      <th></th>\n",
       "      <th></th>\n",
       "    </tr>\n",
       "  </thead>\n",
       "  <tbody>\n",
       "    <tr>\n",
       "      <th>0</th>\n",
       "      <td>5.087097</td>\n",
       "      <td>60.351613</td>\n",
       "      <td>8.780000</td>\n",
       "      <td>51.570968</td>\n",
       "      <td>48529.032258</td>\n",
       "      <td>2.988194</td>\n",
       "      <td>80.364516</td>\n",
       "      <td>1.808387</td>\n",
       "      <td>45867.741935</td>\n",
       "    </tr>\n",
       "    <tr>\n",
       "      <th>2</th>\n",
       "      <td>20.284211</td>\n",
       "      <td>43.573684</td>\n",
       "      <td>6.884737</td>\n",
       "      <td>53.439474</td>\n",
       "      <td>13669.210526</td>\n",
       "      <td>4.797592</td>\n",
       "      <td>72.765789</td>\n",
       "      <td>2.249605</td>\n",
       "      <td>7872.447368</td>\n",
       "    </tr>\n",
       "    <tr>\n",
       "      <th>1</th>\n",
       "      <td>78.196667</td>\n",
       "      <td>28.044983</td>\n",
       "      <td>5.713333</td>\n",
       "      <td>36.176098</td>\n",
       "      <td>5331.716667</td>\n",
       "      <td>14.038583</td>\n",
       "      <td>62.688333</td>\n",
       "      <td>4.421333</td>\n",
       "      <td>2413.466667</td>\n",
       "    </tr>\n",
       "  </tbody>\n",
       "</table>\n",
       "</div>"
      ],
      "text/plain": [
       "       child_mort    exports    health    imports        income  inflation  \\\n",
       "Class                                                                        \n",
       "0        5.087097  60.351613  8.780000  51.570968  48529.032258   2.988194   \n",
       "2       20.284211  43.573684  6.884737  53.439474  13669.210526   4.797592   \n",
       "1       78.196667  28.044983  5.713333  36.176098   5331.716667  14.038583   \n",
       "\n",
       "       life_expec  total_fer          gdpp  \n",
       "Class                                       \n",
       "0       80.364516   1.808387  45867.741935  \n",
       "2       72.765789   2.249605   7872.447368  \n",
       "1       62.688333   4.421333   2413.466667  "
      ]
     },
     "execution_count": 540,
     "metadata": {},
     "output_type": "execute_result"
    }
   ],
   "source": [
    "grouping_hasil.sort_values(by = [\"gdpp\",\"child_mort\"], ascending = [False, True])"
   ]
  },
  {
   "cell_type": "code",
   "execution_count": 550,
   "id": "c9ca8dfa",
   "metadata": {},
   "outputs": [
    {
     "data": {
      "text/plain": [
       "['Australia',\n",
       " 'Austria',\n",
       " 'Bahrain',\n",
       " 'Belgium',\n",
       " 'Brunei',\n",
       " 'Canada',\n",
       " 'Cyprus',\n",
       " 'Denmark',\n",
       " 'Finland',\n",
       " 'France',\n",
       " 'Germany',\n",
       " 'Iceland',\n",
       " 'Ireland',\n",
       " 'Israel',\n",
       " 'Italy',\n",
       " 'Japan',\n",
       " 'Kuwait',\n",
       " 'Luxembourg',\n",
       " 'Malta',\n",
       " 'Netherlands',\n",
       " 'New Zealand',\n",
       " 'Norway',\n",
       " 'Qatar',\n",
       " 'Singapore',\n",
       " 'Slovenia',\n",
       " 'Spain',\n",
       " 'Sweden',\n",
       " 'Switzerland',\n",
       " 'United Arab Emirates',\n",
       " 'United Kingdom',\n",
       " 'United States']"
      ]
     },
     "execution_count": 550,
     "metadata": {},
     "output_type": "execute_result"
    }
   ],
   "source": [
    "country_class_best = result_data.loc[result_data[\"Class\"] == 0,\"country\"].to_list()\n",
    "country_class_best"
   ]
  },
  {
   "cell_type": "code",
   "execution_count": 551,
   "id": "5c066a2d",
   "metadata": {},
   "outputs": [
    {
     "data": {
      "text/plain": [
       "['Albania',\n",
       " 'Antigua and Barbuda',\n",
       " 'Armenia',\n",
       " 'Bahamas',\n",
       " 'Barbados',\n",
       " 'Belarus',\n",
       " 'Belize',\n",
       " 'Bhutan',\n",
       " 'Bosnia and Herzegovina',\n",
       " 'Botswana',\n",
       " 'Brazil',\n",
       " 'Bulgaria',\n",
       " 'Cambodia',\n",
       " 'Cape Verde',\n",
       " 'Chile',\n",
       " 'China',\n",
       " 'Colombia',\n",
       " 'Costa Rica',\n",
       " 'Croatia',\n",
       " 'Czech Republic',\n",
       " 'Dominican Republic',\n",
       " 'Ecuador',\n",
       " 'El Salvador',\n",
       " 'Estonia',\n",
       " 'Fiji',\n",
       " 'Georgia',\n",
       " 'Greece',\n",
       " 'Grenada',\n",
       " 'Guatemala',\n",
       " 'Guyana',\n",
       " 'Hungary',\n",
       " 'Jamaica',\n",
       " 'Jordan',\n",
       " 'Kiribati',\n",
       " 'Kyrgyz Republic',\n",
       " 'Latvia',\n",
       " 'Lebanon',\n",
       " 'Lesotho',\n",
       " 'Libya',\n",
       " 'Lithuania',\n",
       " 'Macedonia, FYR',\n",
       " 'Malaysia',\n",
       " 'Maldives',\n",
       " 'Mauritius',\n",
       " 'Micronesia, Fed. Sts.',\n",
       " 'Moldova',\n",
       " 'Montenegro',\n",
       " 'Morocco',\n",
       " 'Namibia',\n",
       " 'Oman',\n",
       " 'Panama',\n",
       " 'Paraguay',\n",
       " 'Peru',\n",
       " 'Philippines',\n",
       " 'Poland',\n",
       " 'Portugal',\n",
       " 'Romania',\n",
       " 'Russia',\n",
       " 'Samoa',\n",
       " 'Saudi Arabia',\n",
       " 'Serbia',\n",
       " 'Seychelles',\n",
       " 'Slovak Republic',\n",
       " 'Solomon Islands',\n",
       " 'South Korea',\n",
       " 'St. Vincent and the Grenadines',\n",
       " 'Suriname',\n",
       " 'Thailand',\n",
       " 'Tonga',\n",
       " 'Tunisia',\n",
       " 'Turkey',\n",
       " 'Turkmenistan',\n",
       " 'Ukraine',\n",
       " 'Uruguay',\n",
       " 'Vanuatu',\n",
       " 'Vietnam']"
      ]
     },
     "execution_count": 551,
     "metadata": {},
     "output_type": "execute_result"
    }
   ],
   "source": [
    "country_class_second = result_data.loc[result_data[\"Class\"] == 2,\"country\"].to_list()\n",
    "country_class_second"
   ]
  },
  {
   "cell_type": "code",
   "execution_count": 553,
   "id": "0c9d2315",
   "metadata": {},
   "outputs": [
    {
     "data": {
      "text/plain": [
       "['Afghanistan',\n",
       " 'Algeria',\n",
       " 'Angola',\n",
       " 'Argentina',\n",
       " 'Azerbaijan',\n",
       " 'Bangladesh',\n",
       " 'Benin',\n",
       " 'Bolivia',\n",
       " 'Burkina Faso',\n",
       " 'Burundi',\n",
       " 'Cameroon',\n",
       " 'Central African Republic',\n",
       " 'Chad',\n",
       " 'Comoros',\n",
       " 'Congo, Dem. Rep.',\n",
       " 'Congo, Rep.',\n",
       " \"Cote d'Ivoire\",\n",
       " 'Egypt',\n",
       " 'Equatorial Guinea',\n",
       " 'Eritrea',\n",
       " 'Gabon',\n",
       " 'Gambia',\n",
       " 'Ghana',\n",
       " 'Guinea',\n",
       " 'Guinea-Bissau',\n",
       " 'Haiti',\n",
       " 'India',\n",
       " 'Indonesia',\n",
       " 'Iran',\n",
       " 'Iraq',\n",
       " 'Kazakhstan',\n",
       " 'Kenya',\n",
       " 'Lao',\n",
       " 'Liberia',\n",
       " 'Madagascar',\n",
       " 'Malawi',\n",
       " 'Mali',\n",
       " 'Mauritania',\n",
       " 'Mongolia',\n",
       " 'Mozambique',\n",
       " 'Myanmar',\n",
       " 'Nepal',\n",
       " 'Niger',\n",
       " 'Nigeria',\n",
       " 'Pakistan',\n",
       " 'Rwanda',\n",
       " 'Senegal',\n",
       " 'Sierra Leone',\n",
       " 'South Africa',\n",
       " 'Sri Lanka',\n",
       " 'Sudan',\n",
       " 'Tajikistan',\n",
       " 'Tanzania',\n",
       " 'Timor-Leste',\n",
       " 'Togo',\n",
       " 'Uganda',\n",
       " 'Uzbekistan',\n",
       " 'Venezuela',\n",
       " 'Yemen',\n",
       " 'Zambia']"
      ]
     },
     "execution_count": 553,
     "metadata": {},
     "output_type": "execute_result"
    }
   ],
   "source": [
    "country_class_third = result_data.loc[result_data[\"Class\"] == 1,\"country\"].to_list()\n",
    "country_class_third"
   ]
  },
  {
   "cell_type": "code",
   "execution_count": 549,
   "id": "9b49f5ce",
   "metadata": {},
   "outputs": [
    {
     "data": {
      "application/vnd.plotly.v1+json": {
       "config": {
        "plotlyServerURL": "https://plot.ly"
       },
       "data": [
        {
         "hovertemplate": "x=%{x}<br>y=%{y}<br>color=%{marker.color}<extra></extra>",
         "legendgroup": "",
         "marker": {
          "color": {
           "bdata": "AQAAAAIAAAABAAAAAQAAAAIAAAABAAAAAgAAAAAAAAAAAAAAAQAAAAIAAAAAAAAAAQAAAAIAAAACAAAAAAAAAAIAAAABAAAAAgAAAAEAAAACAAAAAgAAAAIAAAAAAAAAAgAAAAEAAAABAAAAAgAAAAEAAAAAAAAAAgAAAAEAAAABAAAAAgAAAAIAAAACAAAAAQAAAAEAAAABAAAAAgAAAAEAAAACAAAAAAAAAAIAAAAAAAAAAgAAAAIAAAABAAAAAgAAAAEAAAABAAAAAgAAAAIAAAAAAAAAAAAAAAEAAAABAAAAAgAAAAAAAAABAAAAAgAAAAIAAAACAAAAAQAAAAEAAAACAAAAAQAAAAIAAAAAAAAAAQAAAAEAAAABAAAAAQAAAAAAAAAAAAAAAAAAAAIAAAAAAAAAAgAAAAEAAAABAAAAAgAAAAAAAAACAAAAAQAAAAIAAAACAAAAAgAAAAEAAAACAAAAAgAAAAAAAAACAAAAAQAAAAEAAAACAAAAAgAAAAEAAAAAAAAAAQAAAAIAAAACAAAAAgAAAAEAAAACAAAAAgAAAAEAAAABAAAAAgAAAAEAAAAAAAAAAAAAAAEAAAABAAAAAAAAAAIAAAABAAAAAgAAAAIAAAACAAAAAgAAAAIAAAACAAAAAAAAAAIAAAACAAAAAQAAAAIAAAACAAAAAQAAAAIAAAACAAAAAQAAAAAAAAACAAAAAAAAAAIAAAABAAAAAgAAAAAAAAABAAAAAgAAAAEAAAACAAAAAAAAAAAAAAABAAAAAQAAAAIAAAABAAAAAQAAAAIAAAACAAAAAgAAAAIAAAABAAAAAgAAAAAAAAAAAAAAAAAAAAIAAAABAAAAAgAAAAEAAAACAAAAAQAAAAEAAAA=",
           "dtype": "i4"
          },
          "coloraxis": "coloraxis",
          "symbol": "circle"
         },
         "mode": "markers",
         "name": "",
         "orientation": "v",
         "showlegend": false,
         "type": "scatter",
         "x": {
          "bdata": "zczMzMyMVkCamZmZmZkwQM3MzMzMTDtAAAAAAADAXUCamZmZmZkkQAAAAAAAAC1AmpmZmZkZMkAzMzMzMzMTQDMzMzMzMxFAmpmZmZmZQ0CamZmZmZkrQDMzMzMzMyFAMzMzMzOzSEBmZmZmZmYsQAAAAAAAABZAAAAAAAAAEkDNzMzMzMwyQAAAAAAAwFtAmpmZmZlZRUDNzMzMzExHQJqZmZmZmRtAAAAAAABASkDNzMzMzMwzQAAAAAAAACVAmpmZmZmZJUAAAAAAAABdQGZmZmZmZldAMzMzMzMzRkAAAAAAAABbQGZmZmZmZhZAAAAAAACAOkAAAAAAAKBiQAAAAAAAwGJAZmZmZmZmIUBmZmZmZmYvQJqZmZmZmTJAzczMzMwMVkAAAAAAAABdQDMzMzMz809AZmZmZmZmJEAAAAAAAMBbQAAAAAAAABZAzczMzMzMDEAzMzMzMzMLQGZmZmZmZhBAMzMzMzMzQUCamZmZmRk5QJqZmZmZGT1AMzMzMzMzM0AAAAAAAMBbQJqZmZmZmUtAAAAAAAAAEkCamZmZmRk4QAAAAAAAAAhAzczMzMzMEECamZmZmdlPQDMzMzMzE1RAAAAAAACAMEDNzMzMzMwQQM3MzMzMrFJAMzMzMzMzD0AzMzMzMzMtQDMzMzMzs0FAAAAAAABAW0AAAAAAAIBcQM3MzMzMzEJAAAAAAAAAakAAAAAAAAAYQM3MzMzMzARAZmZmZmZmTUBmZmZmZqZAQM3MzMzMTDNAMzMzMzNzQkDNzMzMzMwQQGZmZmZmZhJAAAAAAAAAEECamZmZmRkyQJqZmZmZmQlAmpmZmZkZNUAAAAAAAIA1QJqZmZmZGU9AmpmZmZlZT0CamZmZmZklQJqZmZmZmT1AmpmZmZm5U0AzMzMzMzMfQJqZmZmZmSRAzczMzMzsWEAzMzMzM1NWQJqZmZmZmTBAZmZmZmZmGEBmZmZmZmYGQM3MzMzMzCRAmpmZmZkZT0AAAAAAAKBWQJqZmZmZmR9AZmZmZmZmKkAAAAAAACBhQDMzMzMzMxtAmpmZmZlZWEAAAAAAAAAuQAAAAAAAAERAMzMzMzMzMUCamZmZmRk6QDMzMzMzMxtAAAAAAADAQEAAAAAAAEBZQJqZmZmZGVBAAAAAAAAATEAAAAAAAIBHQAAAAAAAABJAzczMzMzMGEAAAAAAAMBeQAAAAAAAQGBAmpmZmZmZCUBmZmZmZmYnQGZmZmZmBldAMzMzMzOzM0CamZmZmRk4QM3MzMzMTDRAZmZmZmbmP0AAAAAAAAAYQDMzMzMzMw9AAAAAAAAAIkAAAAAAAAAnQAAAAAAAACRAzczMzMzMT0BmZmZmZuYyQGZmZmZmZi9AMzMzMzOzUEBmZmZmZmYeQM3MzMzMzCxAAAAAAAAAZEBmZmZmZmYGQAAAAAAAABxAmpmZmZmZCUCamZmZmRk8QJqZmZmZ2UpAZmZmZmZmEEBmZmZmZmYOQGZmZmZmZiZAMzMzMzOzNEDNzMzMzCxTQJqZmZmZGThAAAAAAAAACEAAAAAAAAASQDMzMzMzM0pAmpmZmZn5UUDNzMzMzMwtQM3MzMzMTE9AMzMzMzOTVkBmZmZmZmYxQGZmZmZmZjFAmpmZmZkZM0AAAAAAAABPQAAAAAAAQFRAZmZmZmZmJ0AzMzMzMzMhQM3MzMzMzBRAMzMzMzMzHUAzMzMzMzMlQGZmZmZmJkJAMzMzMzMzPUCamZmZmRkxQM3MzMzMTDdAZmZmZmYmTEBmZmZmZsZUQA==",
          "dtype": "f8"
         },
         "xaxis": "x",
         "y": {
          "bdata": "SgYAAMomAABkMgAADBcAAJxKAAAMSQAALBoAALihAADAqAAAgD4AAHRZAACMoAAAiAkAAMQ7AABIPwAAjKAAAMgeAAAcBwAAFBkAACIVAAD4JQAA9DMAAKQ4AADYOgEAxDsAAJYFAAD8AgAA2AkAAGQKAAD8ngAAxhYAAHgDAACKBwAAyEsAADolAACUKgAAggUAAGECAABGFAAAyDIAAIIKAACETgAAbIQAAIxuAADgqwAAXCsAAIYkAACEJgAAhBwAAKSDAACMBQAArFgAALYcAAB4mwAAJJAAACg8AAB8BgAAShoAANCdAAD0CwAAHHAAAMArAAA2GgAApgQAAG4FAADQFgAA3AUAABxXAACQlwAAOhEAAO4gAAD4QwAAnDEAAISyAACgcwAAaI0AAEAfAADYiwAA/iQAAIROAACwCQAAwgYAAMAlAQDmCgAAjA8AAHxHAACsPwAATAkAALwCAACgcwAAbFIAADRmAQCILAAAbgUAAAYEAABsUgAABCkAAE4HAACMbgAA+AwAABw+AAAMDQAARg8AAB4eAACwNgAAKBkAAJYDAACIDgAADCEAAMYHAAC8sQAALH4AAC4DAAAeFAAAXPMAAPSwAAC4EAAAKDwAAHocAADoJgAA4BUAAChVAABAagAASOgBAIhFAAA8WgAARgUAABgVAABYsQAAhAgAAJwxAACwTwAAxAQAAKQZAQBwYgAAHHAAAPQGAADgLgAAwHYAAPR+AABwIQAAwCYAACoNAAB4NwAAlKcAAMzYAAA+CAAAKggAALw0AAA6BwAAugQAAHQTAACgKAAAUEYAANQmAAAEBgAAjB4AAADhAABojQAA+MAAAMxCAACQEAAAhgsAAHRAAACKEQAAgBEAANAMAAA=",
          "dtype": "i4"
         },
         "yaxis": "y"
        }
       ],
       "layout": {
        "coloraxis": {
         "colorbar": {
          "title": {
           "text": "color"
          }
         },
         "colorscale": [
          [
           0,
           "#0d0887"
          ],
          [
           0.1111111111111111,
           "#46039f"
          ],
          [
           0.2222222222222222,
           "#7201a8"
          ],
          [
           0.3333333333333333,
           "#9c179e"
          ],
          [
           0.4444444444444444,
           "#bd3786"
          ],
          [
           0.5555555555555556,
           "#d8576b"
          ],
          [
           0.6666666666666666,
           "#ed7953"
          ],
          [
           0.7777777777777778,
           "#fb9f3a"
          ],
          [
           0.8888888888888888,
           "#fdca26"
          ],
          [
           1,
           "#f0f921"
          ]
         ]
        },
        "legend": {
         "tracegroupgap": 0
        },
        "margin": {
         "t": 60
        },
        "template": {
         "data": {
          "bar": [
           {
            "error_x": {
             "color": "#2a3f5f"
            },
            "error_y": {
             "color": "#2a3f5f"
            },
            "marker": {
             "line": {
              "color": "#E5ECF6",
              "width": 0.5
             },
             "pattern": {
              "fillmode": "overlay",
              "size": 10,
              "solidity": 0.2
             }
            },
            "type": "bar"
           }
          ],
          "barpolar": [
           {
            "marker": {
             "line": {
              "color": "#E5ECF6",
              "width": 0.5
             },
             "pattern": {
              "fillmode": "overlay",
              "size": 10,
              "solidity": 0.2
             }
            },
            "type": "barpolar"
           }
          ],
          "carpet": [
           {
            "aaxis": {
             "endlinecolor": "#2a3f5f",
             "gridcolor": "white",
             "linecolor": "white",
             "minorgridcolor": "white",
             "startlinecolor": "#2a3f5f"
            },
            "baxis": {
             "endlinecolor": "#2a3f5f",
             "gridcolor": "white",
             "linecolor": "white",
             "minorgridcolor": "white",
             "startlinecolor": "#2a3f5f"
            },
            "type": "carpet"
           }
          ],
          "choropleth": [
           {
            "colorbar": {
             "outlinewidth": 0,
             "ticks": ""
            },
            "type": "choropleth"
           }
          ],
          "contour": [
           {
            "colorbar": {
             "outlinewidth": 0,
             "ticks": ""
            },
            "colorscale": [
             [
              0,
              "#0d0887"
             ],
             [
              0.1111111111111111,
              "#46039f"
             ],
             [
              0.2222222222222222,
              "#7201a8"
             ],
             [
              0.3333333333333333,
              "#9c179e"
             ],
             [
              0.4444444444444444,
              "#bd3786"
             ],
             [
              0.5555555555555556,
              "#d8576b"
             ],
             [
              0.6666666666666666,
              "#ed7953"
             ],
             [
              0.7777777777777778,
              "#fb9f3a"
             ],
             [
              0.8888888888888888,
              "#fdca26"
             ],
             [
              1,
              "#f0f921"
             ]
            ],
            "type": "contour"
           }
          ],
          "contourcarpet": [
           {
            "colorbar": {
             "outlinewidth": 0,
             "ticks": ""
            },
            "type": "contourcarpet"
           }
          ],
          "heatmap": [
           {
            "colorbar": {
             "outlinewidth": 0,
             "ticks": ""
            },
            "colorscale": [
             [
              0,
              "#0d0887"
             ],
             [
              0.1111111111111111,
              "#46039f"
             ],
             [
              0.2222222222222222,
              "#7201a8"
             ],
             [
              0.3333333333333333,
              "#9c179e"
             ],
             [
              0.4444444444444444,
              "#bd3786"
             ],
             [
              0.5555555555555556,
              "#d8576b"
             ],
             [
              0.6666666666666666,
              "#ed7953"
             ],
             [
              0.7777777777777778,
              "#fb9f3a"
             ],
             [
              0.8888888888888888,
              "#fdca26"
             ],
             [
              1,
              "#f0f921"
             ]
            ],
            "type": "heatmap"
           }
          ],
          "histogram": [
           {
            "marker": {
             "pattern": {
              "fillmode": "overlay",
              "size": 10,
              "solidity": 0.2
             }
            },
            "type": "histogram"
           }
          ],
          "histogram2d": [
           {
            "colorbar": {
             "outlinewidth": 0,
             "ticks": ""
            },
            "colorscale": [
             [
              0,
              "#0d0887"
             ],
             [
              0.1111111111111111,
              "#46039f"
             ],
             [
              0.2222222222222222,
              "#7201a8"
             ],
             [
              0.3333333333333333,
              "#9c179e"
             ],
             [
              0.4444444444444444,
              "#bd3786"
             ],
             [
              0.5555555555555556,
              "#d8576b"
             ],
             [
              0.6666666666666666,
              "#ed7953"
             ],
             [
              0.7777777777777778,
              "#fb9f3a"
             ],
             [
              0.8888888888888888,
              "#fdca26"
             ],
             [
              1,
              "#f0f921"
             ]
            ],
            "type": "histogram2d"
           }
          ],
          "histogram2dcontour": [
           {
            "colorbar": {
             "outlinewidth": 0,
             "ticks": ""
            },
            "colorscale": [
             [
              0,
              "#0d0887"
             ],
             [
              0.1111111111111111,
              "#46039f"
             ],
             [
              0.2222222222222222,
              "#7201a8"
             ],
             [
              0.3333333333333333,
              "#9c179e"
             ],
             [
              0.4444444444444444,
              "#bd3786"
             ],
             [
              0.5555555555555556,
              "#d8576b"
             ],
             [
              0.6666666666666666,
              "#ed7953"
             ],
             [
              0.7777777777777778,
              "#fb9f3a"
             ],
             [
              0.8888888888888888,
              "#fdca26"
             ],
             [
              1,
              "#f0f921"
             ]
            ],
            "type": "histogram2dcontour"
           }
          ],
          "mesh3d": [
           {
            "colorbar": {
             "outlinewidth": 0,
             "ticks": ""
            },
            "type": "mesh3d"
           }
          ],
          "parcoords": [
           {
            "line": {
             "colorbar": {
              "outlinewidth": 0,
              "ticks": ""
             }
            },
            "type": "parcoords"
           }
          ],
          "pie": [
           {
            "automargin": true,
            "type": "pie"
           }
          ],
          "scatter": [
           {
            "fillpattern": {
             "fillmode": "overlay",
             "size": 10,
             "solidity": 0.2
            },
            "type": "scatter"
           }
          ],
          "scatter3d": [
           {
            "line": {
             "colorbar": {
              "outlinewidth": 0,
              "ticks": ""
             }
            },
            "marker": {
             "colorbar": {
              "outlinewidth": 0,
              "ticks": ""
             }
            },
            "type": "scatter3d"
           }
          ],
          "scattercarpet": [
           {
            "marker": {
             "colorbar": {
              "outlinewidth": 0,
              "ticks": ""
             }
            },
            "type": "scattercarpet"
           }
          ],
          "scattergeo": [
           {
            "marker": {
             "colorbar": {
              "outlinewidth": 0,
              "ticks": ""
             }
            },
            "type": "scattergeo"
           }
          ],
          "scattergl": [
           {
            "marker": {
             "colorbar": {
              "outlinewidth": 0,
              "ticks": ""
             }
            },
            "type": "scattergl"
           }
          ],
          "scattermap": [
           {
            "marker": {
             "colorbar": {
              "outlinewidth": 0,
              "ticks": ""
             }
            },
            "type": "scattermap"
           }
          ],
          "scattermapbox": [
           {
            "marker": {
             "colorbar": {
              "outlinewidth": 0,
              "ticks": ""
             }
            },
            "type": "scattermapbox"
           }
          ],
          "scatterpolar": [
           {
            "marker": {
             "colorbar": {
              "outlinewidth": 0,
              "ticks": ""
             }
            },
            "type": "scatterpolar"
           }
          ],
          "scatterpolargl": [
           {
            "marker": {
             "colorbar": {
              "outlinewidth": 0,
              "ticks": ""
             }
            },
            "type": "scatterpolargl"
           }
          ],
          "scatterternary": [
           {
            "marker": {
             "colorbar": {
              "outlinewidth": 0,
              "ticks": ""
             }
            },
            "type": "scatterternary"
           }
          ],
          "surface": [
           {
            "colorbar": {
             "outlinewidth": 0,
             "ticks": ""
            },
            "colorscale": [
             [
              0,
              "#0d0887"
             ],
             [
              0.1111111111111111,
              "#46039f"
             ],
             [
              0.2222222222222222,
              "#7201a8"
             ],
             [
              0.3333333333333333,
              "#9c179e"
             ],
             [
              0.4444444444444444,
              "#bd3786"
             ],
             [
              0.5555555555555556,
              "#d8576b"
             ],
             [
              0.6666666666666666,
              "#ed7953"
             ],
             [
              0.7777777777777778,
              "#fb9f3a"
             ],
             [
              0.8888888888888888,
              "#fdca26"
             ],
             [
              1,
              "#f0f921"
             ]
            ],
            "type": "surface"
           }
          ],
          "table": [
           {
            "cells": {
             "fill": {
              "color": "#EBF0F8"
             },
             "line": {
              "color": "white"
             }
            },
            "header": {
             "fill": {
              "color": "#C8D4E3"
             },
             "line": {
              "color": "white"
             }
            },
            "type": "table"
           }
          ]
         },
         "layout": {
          "annotationdefaults": {
           "arrowcolor": "#2a3f5f",
           "arrowhead": 0,
           "arrowwidth": 1
          },
          "autotypenumbers": "strict",
          "coloraxis": {
           "colorbar": {
            "outlinewidth": 0,
            "ticks": ""
           }
          },
          "colorscale": {
           "diverging": [
            [
             0,
             "#8e0152"
            ],
            [
             0.1,
             "#c51b7d"
            ],
            [
             0.2,
             "#de77ae"
            ],
            [
             0.3,
             "#f1b6da"
            ],
            [
             0.4,
             "#fde0ef"
            ],
            [
             0.5,
             "#f7f7f7"
            ],
            [
             0.6,
             "#e6f5d0"
            ],
            [
             0.7,
             "#b8e186"
            ],
            [
             0.8,
             "#7fbc41"
            ],
            [
             0.9,
             "#4d9221"
            ],
            [
             1,
             "#276419"
            ]
           ],
           "sequential": [
            [
             0,
             "#0d0887"
            ],
            [
             0.1111111111111111,
             "#46039f"
            ],
            [
             0.2222222222222222,
             "#7201a8"
            ],
            [
             0.3333333333333333,
             "#9c179e"
            ],
            [
             0.4444444444444444,
             "#bd3786"
            ],
            [
             0.5555555555555556,
             "#d8576b"
            ],
            [
             0.6666666666666666,
             "#ed7953"
            ],
            [
             0.7777777777777778,
             "#fb9f3a"
            ],
            [
             0.8888888888888888,
             "#fdca26"
            ],
            [
             1,
             "#f0f921"
            ]
           ],
           "sequentialminus": [
            [
             0,
             "#0d0887"
            ],
            [
             0.1111111111111111,
             "#46039f"
            ],
            [
             0.2222222222222222,
             "#7201a8"
            ],
            [
             0.3333333333333333,
             "#9c179e"
            ],
            [
             0.4444444444444444,
             "#bd3786"
            ],
            [
             0.5555555555555556,
             "#d8576b"
            ],
            [
             0.6666666666666666,
             "#ed7953"
            ],
            [
             0.7777777777777778,
             "#fb9f3a"
            ],
            [
             0.8888888888888888,
             "#fdca26"
            ],
            [
             1,
             "#f0f921"
            ]
           ]
          },
          "colorway": [
           "#636efa",
           "#EF553B",
           "#00cc96",
           "#ab63fa",
           "#FFA15A",
           "#19d3f3",
           "#FF6692",
           "#B6E880",
           "#FF97FF",
           "#FECB52"
          ],
          "font": {
           "color": "#2a3f5f"
          },
          "geo": {
           "bgcolor": "white",
           "lakecolor": "white",
           "landcolor": "#E5ECF6",
           "showlakes": true,
           "showland": true,
           "subunitcolor": "white"
          },
          "hoverlabel": {
           "align": "left"
          },
          "hovermode": "closest",
          "mapbox": {
           "style": "light"
          },
          "paper_bgcolor": "white",
          "plot_bgcolor": "#E5ECF6",
          "polar": {
           "angularaxis": {
            "gridcolor": "white",
            "linecolor": "white",
            "ticks": ""
           },
           "bgcolor": "#E5ECF6",
           "radialaxis": {
            "gridcolor": "white",
            "linecolor": "white",
            "ticks": ""
           }
          },
          "scene": {
           "xaxis": {
            "backgroundcolor": "#E5ECF6",
            "gridcolor": "white",
            "gridwidth": 2,
            "linecolor": "white",
            "showbackground": true,
            "ticks": "",
            "zerolinecolor": "white"
           },
           "yaxis": {
            "backgroundcolor": "#E5ECF6",
            "gridcolor": "white",
            "gridwidth": 2,
            "linecolor": "white",
            "showbackground": true,
            "ticks": "",
            "zerolinecolor": "white"
           },
           "zaxis": {
            "backgroundcolor": "#E5ECF6",
            "gridcolor": "white",
            "gridwidth": 2,
            "linecolor": "white",
            "showbackground": true,
            "ticks": "",
            "zerolinecolor": "white"
           }
          },
          "shapedefaults": {
           "line": {
            "color": "#2a3f5f"
           }
          },
          "ternary": {
           "aaxis": {
            "gridcolor": "white",
            "linecolor": "white",
            "ticks": ""
           },
           "baxis": {
            "gridcolor": "white",
            "linecolor": "white",
            "ticks": ""
           },
           "bgcolor": "#E5ECF6",
           "caxis": {
            "gridcolor": "white",
            "linecolor": "white",
            "ticks": ""
           }
          },
          "title": {
           "x": 0.05
          },
          "xaxis": {
           "automargin": true,
           "gridcolor": "white",
           "linecolor": "white",
           "ticks": "",
           "title": {
            "standoff": 15
           },
           "zerolinecolor": "white",
           "zerolinewidth": 2
          },
          "yaxis": {
           "automargin": true,
           "gridcolor": "white",
           "linecolor": "white",
           "ticks": "",
           "title": {
            "standoff": 15
           },
           "zerolinecolor": "white",
           "zerolinewidth": 2
          }
         }
        },
        "xaxis": {
         "anchor": "y",
         "domain": [
          0,
          1
         ],
         "title": {
          "text": "x"
         }
        },
        "yaxis": {
         "anchor": "x",
         "domain": [
          0,
          1
         ],
         "title": {
          "text": "y"
         }
        }
       }
      }
     },
     "metadata": {},
     "output_type": "display_data"
    }
   ],
   "source": [
    "plot.scatter(x=result_data[\"child_mort\"],y=result_data[\"income\"],color=result_data[\"Class\"])"
   ]
  },
  {
   "cell_type": "markdown",
   "id": "440230c3",
   "metadata": {},
   "source": [
    "## CALCULATION METRICS"
   ]
  },
  {
   "cell_type": "code",
   "execution_count": 546,
   "id": "5d6ae982",
   "metadata": {},
   "outputs": [],
   "source": [
    "from sklearn.metrics import silhouette_score"
   ]
  },
  {
   "cell_type": "code",
   "execution_count": 548,
   "id": "e68881eb",
   "metadata": {},
   "outputs": [
    {
     "name": "stdout",
     "output_type": "stream",
     "text": [
      "Score of Silhouette is : 0.4026725545654397\n"
     ]
    }
   ],
   "source": [
    "score = silhouette_score(X = scaled_train_data, labels = prediction)\n",
    "print(f\"Score of Silhouette is : {score}\")"
   ]
  },
  {
   "cell_type": "markdown",
   "id": "9fa66d5f",
   "metadata": {},
   "source": [
    "# Cluster Analysis Summary (Countries Included)\n",
    "\n",
    "## Class 0 (High Income & Low Child Mortality)\n",
    "\n",
    "- **Child Mortality:** Very low (≈5.1 per 1,000 children)  \n",
    "- **Income & GDP per Capita:** High (≈48,500 and 45,900 respectively)  \n",
    "- **Health Spending:** Highest among all clusters (≈8.78% of GDP)  \n",
    "- **Life Expectancy:** Long (≈80.4 years)  \n",
    "- **Fertility Rate:** Low (≈1.81 children per woman)  \n",
    "- **Trade Activity:** Moderate exports (≈60.4) and imports (≈51.6)  \n",
    "\n",
    "**Interpretation:** These countries are developed, with strong economies, advanced healthcare, low child mortality, and low population growth.\n",
    "\n",
    "---\n",
    "\n",
    "## Class 2 (Medium Income & Moderate Child Mortality)\n",
    "\n",
    "- **Child Mortality:** Moderate (≈20.3 per 1,000 children)  \n",
    "- **Income & GDP per Capita:** Moderate (≈13,670 and 7,872 respectively)  \n",
    "- **Health Spending:** Moderate (≈6.88%)  \n",
    "- **Life Expectancy:** ≈72.8 years  \n",
    "- **Fertility Rate:** Moderate (≈2.25 children per woman)  \n",
    "- **Trade Activity:** Moderate exports (≈43.6) and imports (≈53.4)  \n",
    "\n",
    "**Interpretation:** These countries are developing or transitioning, showing improving health and economic conditions but not yet at high-income levels.\n",
    "\n",
    "---\n",
    "\n",
    "## Class 1 (Low Income & High Child Mortality)\n",
    "\n",
    "- **Child Mortality:** Very high (≈78.2 per 1,000 children)  \n",
    "- **Income & GDP per Capita:** Low (≈5,332 and 2,413 respectively)  \n",
    "- **Health Spending:** Lowest among clusters (≈5.71%)  \n",
    "- **Life Expectancy:** Short (≈62.7 years)  \n",
    "- **Fertility Rate:** High (≈4.42 children per woman)  \n",
    "- **Trade Activity:** Low exports (≈28.0) and imports (≈36.2)  \n",
    "\n",
    "**Interpretation:** These countries are generally low-income or underdeveloped, with poor health outcomes, high fertility rates, and limited economic development.\n"
   ]
  },
  {
   "cell_type": "markdown",
   "id": "bd67f1ac",
   "metadata": {},
   "source": [
    "# Country Clusters\n",
    "\n",
    "| Class | Description                           | Countries (sample / full list) |\n",
    "|-------|---------------------------------------|--------------------------------|\n",
    "| 0     | High Income & Low Child Mortality     | Australia, Austria, Bahrain, Belgium, Brunei, Canada, Cyprus, Denmark, Finland, France, Germany, Iceland, Ireland, Israel, Italy, Japan, Kuwait, Luxembourg, Malta, Netherlands, New Zealand, Norway, Qatar, Singapore, Slovenia, Spain, Sweden, Switzerland, UAE, United Kingdom, United States |\n",
    "| 2     | Medium Income & Moderate Child Mortality | Albania, Antigua and Barbuda, Armenia, Bahamas, Barbados, Belarus, Belize, Bhutan, Bosnia and Herzegovina, Botswana, Brazil, Bulgaria, Cambodia, Cape Verde, Chile, China, Colombia, Costa Rica, Croatia, Czech Republic, Dominican Republic, Ecuador, El Salvador, Estonia, Fiji, Georgia, Greece, Grenada, Guatemala, Guyana, Hungary, Jamaica, Jordan, Kiribati, Kyrgyz Republic, Latvia, Lebanon, Lesotho, Libya, Lithuania, Macedonia, Malaysia, Maldives, Mauritius, Micronesia, Moldova, Montenegro, Morocco, Namibia, Oman, Panama, Paraguay, Peru, Philippines, Poland, Portugal, Romania, Russia, Samoa, Saudi Arabia, Serbia, Seychelles, Slovak Republic, Solomon Islands, South Korea, St. Vincent and the Grenadines, Suriname, Thailand, Tonga, Tunisia, Turkey, Turkmenistan, Ukraine, Uruguay, Vanuatu, Vietnam |\n",
    "| 1     | Low Income & High Child Mortality     | Afghanistan, Algeria, Angola, Argentina, Azerbaijan, Bangladesh, Benin, Bolivia, Burkina Faso, Burundi, Cameroon, Central African Republic, Chad, Comoros, Congo (Dem. Rep.), Congo (Rep.), Côte d'Ivoire, Egypt, Equatorial Guinea, Eritrea, Gabon, Gambia, Ghana, Guinea, Guinea-Bissau, Haiti, India, Indonesia, Iran, Iraq, Kazakhstan, Kenya, Lao, Liberia, Madagascar, Malawi, Mali, Mauritania, Mongolia, Mozambique, Myanmar, Nepal, Niger, Nigeria, Pakistan, Rwanda, Senegal, Sierra Leone, South Africa, Sri Lanka, Sudan, Tajikistan, Tanzania, Timor-Leste, Togo, Uganda, Uzbekistan, Venezuela, Yemen, Zambia |\n"
   ]
  }
 ],
 "metadata": {
  "kernelspec": {
   "display_name": "ReynaldiENV",
   "language": "python",
   "name": "python3"
  },
  "language_info": {
   "codemirror_mode": {
    "name": "ipython",
    "version": 3
   },
   "file_extension": ".py",
   "mimetype": "text/x-python",
   "name": "python",
   "nbconvert_exporter": "python",
   "pygments_lexer": "ipython3",
   "version": "3.11.13"
  }
 },
 "nbformat": 4,
 "nbformat_minor": 5
}
